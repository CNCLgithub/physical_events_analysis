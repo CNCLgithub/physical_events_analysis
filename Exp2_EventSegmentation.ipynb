{
 "cells": [
  {
   "cell_type": "code",
   "execution_count": 1,
   "metadata": {},
   "outputs": [],
   "source": [
    "import pandas as pd\n",
    "import numpy as np\n",
    "import json\n",
    "\n",
    "import scipy.stats as stats\n",
    "\n",
    "import matplotlib.pyplot as plt\n",
    "import seaborn as sns\n",
    "%matplotlib inline"
   ]
  },
  {
   "cell_type": "markdown",
   "metadata": {},
   "source": [
    "## set up "
   ]
  },
  {
   "cell_type": "code",
   "execution_count": 2,
   "metadata": {},
   "outputs": [],
   "source": [
    "trial_data=pd.read_csv('data_files/eventseg_trialdata.csv',header=None)\n",
    "question_data=pd.read_csv('data_files/eventseg_questiondata.csv',header=None)\n",
    "event_data=pd.read_csv('data_files/eventseg_eventdata.csv',header=None)"
   ]
  },
  {
   "cell_type": "code",
   "execution_count": 3,
   "metadata": {},
   "outputs": [
    {
     "name": "stdout",
     "output_type": "stream",
     "text": [
      "15\n",
      "['debug0mwmM:debug3GBn1' 'debug2VZ3NT:debugU3LGH6' 'debugBgmtV:debugyGVsK'\n",
      " 'debugKOrYh:debug9Dhm5' 'debugTHBPt:debug6BsER' 'debugTTGHPA:debugIWAJF6'\n",
      " 'debugYlh1Z:debugBamIv' 'debugZGE3Z:debugSIH46' 'debugfXoRq:debugNETH0'\n",
      " 'debugfb2Ca:debugzC3ly' 'debughXUoc:debugoy6sE' 'debugkNzMy:debugCl2Vl'\n",
      " 'debugksOcd:debugh6usg' 'debugtmqys:debugJ2BMd' 'debugvOtw0:debugo76XH']\n"
     ]
    }
   ],
   "source": [
    "exp2_subs=np.unique(question_data[515:][0]) # possible subjects that did this version of the study\n",
    "print(len(exp2_subs))\n",
    "print(exp2_subs)"
   ]
  },
  {
   "cell_type": "code",
   "execution_count": 4,
   "metadata": {},
   "outputs": [],
   "source": [
    "idx_to_use=[]\n",
    "\n",
    "for ppt in exp2_subs:\n",
    "    idx_to_use.extend(np.where(trial_data[0]==ppt)[0])\n",
    "    \n",
    "actual_data=trial_data.iloc[idx_to_use,:]\n"
   ]
  },
  {
   "cell_type": "code",
   "execution_count": 5,
   "metadata": {},
   "outputs": [],
   "source": [
    "idx_to_use=[]\n",
    "\n",
    "for ppt in exp2_subs:\n",
    "    if sum(question_data[0]==ppt) > 1: # if they actually got all the way to the end of the task\n",
    "        idx_to_use.extend(np.where(question_data[0]==ppt)[0])\n",
    "    \n",
    "actual_question=question_data.iloc[idx_to_use,:]\n",
    "actual_question.columns=['id','question','answer']\n",
    "actual_question=actual_question.pivot(index='id',columns='question',values='answer')"
   ]
  },
  {
   "cell_type": "code",
   "execution_count": 6,
   "metadata": {},
   "outputs": [
    {
     "data": {
      "text/html": [
       "<div>\n",
       "<style scoped>\n",
       "    .dataframe tbody tr th:only-of-type {\n",
       "        vertical-align: middle;\n",
       "    }\n",
       "\n",
       "    .dataframe tbody tr th {\n",
       "        vertical-align: top;\n",
       "    }\n",
       "\n",
       "    .dataframe thead th {\n",
       "        text-align: right;\n",
       "    }\n",
       "</style>\n",
       "<table border=\"1\" class=\"dataframe\">\n",
       "  <thead>\n",
       "    <tr style=\"text-align: right;\">\n",
       "      <th>question</th>\n",
       "      <th>comments</th>\n",
       "      <th>difficulty</th>\n",
       "      <th>engagement</th>\n",
       "      <th>instructionloops</th>\n",
       "      <th>switch_tabs</th>\n",
       "      <th>vid_quality</th>\n",
       "    </tr>\n",
       "    <tr>\n",
       "      <th>id</th>\n",
       "      <th></th>\n",
       "      <th></th>\n",
       "      <th></th>\n",
       "      <th></th>\n",
       "      <th></th>\n",
       "      <th></th>\n",
       "    </tr>\n",
       "  </thead>\n",
       "  <tbody>\n",
       "    <tr>\n",
       "      <th>debug0mwmM:debug3GBn1</th>\n",
       "      <td>NaN</td>\n",
       "      <td>1</td>\n",
       "      <td>1</td>\n",
       "      <td>1</td>\n",
       "      <td>No</td>\n",
       "      <td>Yes</td>\n",
       "    </tr>\n",
       "    <tr>\n",
       "      <th>debugBgmtV:debugyGVsK</th>\n",
       "      <td>Got a bit lethargic by the end of it as some w...</td>\n",
       "      <td>3</td>\n",
       "      <td>3</td>\n",
       "      <td>1</td>\n",
       "      <td>No</td>\n",
       "      <td>Yes</td>\n",
       "    </tr>\n",
       "    <tr>\n",
       "      <th>debugKOrYh:debug9Dhm5</th>\n",
       "      <td>NaN</td>\n",
       "      <td>6</td>\n",
       "      <td>6</td>\n",
       "      <td>1</td>\n",
       "      <td>No</td>\n",
       "      <td>Yes</td>\n",
       "    </tr>\n",
       "    <tr>\n",
       "      <th>debugTTGHPA:debugIWAJF6</th>\n",
       "      <td>NaN</td>\n",
       "      <td>5</td>\n",
       "      <td>5</td>\n",
       "      <td>1</td>\n",
       "      <td>No</td>\n",
       "      <td>Yes</td>\n",
       "    </tr>\n",
       "    <tr>\n",
       "      <th>debugYlh1Z:debugBamIv</th>\n",
       "      <td>NaN</td>\n",
       "      <td>5</td>\n",
       "      <td>2</td>\n",
       "      <td>2</td>\n",
       "      <td>No</td>\n",
       "      <td>Yes</td>\n",
       "    </tr>\n",
       "  </tbody>\n",
       "</table>\n",
       "</div>"
      ],
      "text/plain": [
       "question                                                          comments  \\\n",
       "id                                                                           \n",
       "debug0mwmM:debug3GBn1                                                  NaN   \n",
       "debugBgmtV:debugyGVsK    Got a bit lethargic by the end of it as some w...   \n",
       "debugKOrYh:debug9Dhm5                                                  NaN   \n",
       "debugTTGHPA:debugIWAJF6                                                NaN   \n",
       "debugYlh1Z:debugBamIv                                                  NaN   \n",
       "\n",
       "question                difficulty engagement instructionloops switch_tabs  \\\n",
       "id                                                                           \n",
       "debug0mwmM:debug3GBn1            1          1                1          No   \n",
       "debugBgmtV:debugyGVsK            3          3                1          No   \n",
       "debugKOrYh:debug9Dhm5            6          6                1          No   \n",
       "debugTTGHPA:debugIWAJF6          5          5                1          No   \n",
       "debugYlh1Z:debugBamIv            5          2                2          No   \n",
       "\n",
       "question                vid_quality  \n",
       "id                                   \n",
       "debug0mwmM:debug3GBn1           Yes  \n",
       "debugBgmtV:debugyGVsK           Yes  \n",
       "debugKOrYh:debug9Dhm5           Yes  \n",
       "debugTTGHPA:debugIWAJF6         Yes  \n",
       "debugYlh1Z:debugBamIv           Yes  "
      ]
     },
     "execution_count": 6,
     "metadata": {},
     "output_type": "execute_result"
    }
   ],
   "source": [
    "actual_question.head()"
   ]
  },
  {
   "cell_type": "code",
   "execution_count": 7,
   "metadata": {},
   "outputs": [
    {
     "data": {
      "text/plain": [
       "11"
      ]
     },
     "execution_count": 7,
     "metadata": {},
     "output_type": "execute_result"
    }
   ],
   "source": [
    "len(actual_question)"
   ]
  },
  {
   "cell_type": "code",
   "execution_count": 8,
   "metadata": {},
   "outputs": [
    {
     "name": "stdout",
     "output_type": "stream",
     "text": [
      "difficulty : M=4.00\n",
      "engagement : M=4.55\n"
     ]
    },
    {
     "data": {
      "image/png": "[encoded data removed]",
      "text/plain": [
       "<Figure size 432x288 with 1 Axes>"
      ]
     },
     "metadata": {
      "needs_background": "light"
     },
     "output_type": "display_data"
    }
   ],
   "source": [
    "for question in ['difficulty','engagement']:\n",
    "    \n",
    "    print('%s : M=%0.2f' %(question, np.mean(np.array(actual_question[question],dtype=int))))\n",
    "    plt.hist(np.array(actual_question[question],dtype=int),alpha=0.4)"
   ]
  },
  {
   "cell_type": "code",
   "execution_count": 9,
   "metadata": {
    "scrolled": true
   },
   "outputs": [
    {
     "name": "stdout",
     "output_type": "stream",
     "text": [
      "[nan\n",
      " 'Got a bit lethargic by the end of it as some were repeated, also was unusual to understand and not clear where you had already pressed for a change of event. Also, when the ball is falling or moving fast the frames always show the ball in different places when you flick it, so was unclear for a change of event then.'\n",
      " nan nan nan\n",
      " 'I think they were similar videos for some and i reacted differently each time it confused me'\n",
      " nan\n",
      " 'I did watch all of the videos, but I took a break in the middle to go and make tea.'\n",
      " 'It was very interesting to partake in this study. Often I had to decide what was the best point in a transition. An example of this is would be deciding to include when a ball went off screen. Thank you, stay safe and healthy, and lastly good luck on the study!!'\n",
      " \"Not sure if it's the program's problem or my keyboard's. Sometimes pressing my enter key leads to pausing the video (which I didn't want to). Also I did not see any purple border even when I replayed the video after submitting my responses.\"\n",
      " nan]\n"
     ]
    }
   ],
   "source": [
    "print(np.array(actual_question['comments']))"
   ]
  },
  {
   "cell_type": "code",
   "execution_count": 10,
   "metadata": {},
   "outputs": [
    {
     "name": "stderr",
     "output_type": "stream",
     "text": [
      "/gpfs/milgram/project/turk-browne/users/tsy6/conda_envs/nlp/lib/python3.6/site-packages/ipykernel_launcher.py:2: SettingWithCopyWarning: \n",
      "A value is trying to be set on a copy of a slice from a DataFrame\n",
      "\n",
      "See the caveats in the documentation: http://pandas.pydata.org/pandas-docs/stable/indexing.html#indexing-view-versus-copy\n",
      "  \n",
      "/gpfs/milgram/project/turk-browne/users/tsy6/conda_envs/nlp/lib/python3.6/site-packages/IPython/core/interactiveshell.py:3267: SettingWithCopyWarning: \n",
      "A value is trying to be set on a copy of a slice from a DataFrame\n",
      "\n",
      "See the caveats in the documentation: http://pandas.pydata.org/pandas-docs/stable/indexing.html#indexing-view-versus-copy\n",
      "  exec(code_obj, self.user_global_ns, self.user_ns)\n"
     ]
    }
   ],
   "source": [
    "for idx in actual_data.index:\n",
    "    actual_data[3][idx]=json.loads(actual_data[3][idx])\n",
    "    \n",
    "actual_data.head()\n",
    "\n",
    "np.save('eventseg_trialdata_dict',actual_data,allow_pickle=True)"
   ]
  },
  {
   "cell_type": "markdown",
   "metadata": {},
   "source": [
    "## Load in the data"
   ]
  },
  {
   "cell_type": "code",
   "execution_count": 10,
   "metadata": {},
   "outputs": [],
   "source": [
    "actual_data=np.load('eventseg_trialdata_dict.npy',allow_pickle=True)"
   ]
  },
  {
   "cell_type": "code",
   "execution_count": 11,
   "metadata": {},
   "outputs": [
    {
     "data": {
      "text/plain": [
       "array([['debug0mwmM:debug3GBn1', 0, 1612995811248,\n",
       "        {'phase': 'INSTRUCTQUIZ', 'question': 'trueFalse1', 'answer': 'b'}],\n",
       "       ['debug0mwmM:debug3GBn1', 1, 1612995811248,\n",
       "        {'phase': 'INSTRUCTQUIZ', 'question': 'trueFalse2', 'answer': 'c'}],\n",
       "       ['debug0mwmM:debug3GBn1', 2, 1612995825166,\n",
       "        {'TrialName': 'containment_falling998_125ms_44.mp4', 'Boundaries': [], 'Boundary_On_Pause': [], 'Removed_Presses': [], 'IsInstruction': False, 'TrialOrder': 0}],\n",
       "       ...,\n",
       "       ['debugvOtw0:debugo76XH', 68, 1612998906317,\n",
       "        {'TrialName': 'occlusion_falling2319_125ms_35.mp4', 'Boundaries': ['5.95', '8.82', '9.22', '11.35'], 'Boundary_On_Pause': [1, 1, 1, 1], 'Removed_Presses': [], 'IsInstruction': False, 'TrialOrder': 63}],\n",
       "       ['debugvOtw0:debugo76XH', 69, 1612998906322,\n",
       "        {'phase': 'postquestionnaire', 'status': 'begin'}],\n",
       "       ['debugvOtw0:debugo76XH', 70, 1612998935742,\n",
       "        {'phase': 'postquestionnaire', 'status': 'submit'}]], dtype=object)"
      ]
     },
     "execution_count": 11,
     "metadata": {},
     "output_type": "execute_result"
    }
   ],
   "source": [
    "actual_data"
   ]
  },
  {
   "cell_type": "code",
   "execution_count": 12,
   "metadata": {},
   "outputs": [
    {
     "name": "stdout",
     "output_type": "stream",
     "text": [
      "318\n"
     ]
    }
   ],
   "source": [
    "real_trials=[x for x in actual_data[:,3] if 'TrialName' in x]\n",
    "real_trials=[x for x in real_trials if len(x['Boundaries']) >= 1]\n",
    "print(len(real_trials))"
   ]
  },
  {
   "cell_type": "code",
   "execution_count": 13,
   "metadata": {},
   "outputs": [
    {
     "data": {
      "text/plain": [
       "[{'TrialName': 'containment_falling998_125ms_44.mp4',\n",
       "  'Boundaries': ['5.44', '6.31'],\n",
       "  'Boundary_On_Pause': [1, 1],\n",
       "  'Removed_Presses': [],\n",
       "  'IsInstruction': False,\n",
       "  'TrialOrder': 1},\n",
       " {'TrialName': 'falling_falling316_125ms_58.mp4',\n",
       "  'Boundaries': ['4.66', '4.88', '5.91', '6.13'],\n",
       "  'Boundary_On_Pause': [1, 1, 1, 1],\n",
       "  'Removed_Presses': [],\n",
       "  'IsInstruction': False,\n",
       "  'TrialOrder': 3},\n",
       " {'TrialName': 'collision_containment315_125ms_70.mp4',\n",
       "  'Boundaries': ['2.77', '5.65'],\n",
       "  'Boundary_On_Pause': [1, 1],\n",
       "  'Removed_Presses': [],\n",
       "  'IsInstruction': False,\n",
       "  'TrialOrder': 5},\n",
       " {'TrialName': 'containment_occlusion5314_125ms_67.mp4',\n",
       "  'Boundaries': ['0.83', '4.77', '6.21'],\n",
       "  'Boundary_On_Pause': [1, 1, 1],\n",
       "  'Removed_Presses': [],\n",
       "  'IsInstruction': False,\n",
       "  'TrialOrder': 7},\n",
       " {'TrialName': 'falling_occlusion998_125ms_39.mp4',\n",
       "  'Boundaries': ['4.36', '5.02'],\n",
       "  'Boundary_On_Pause': [1, 1],\n",
       "  'Removed_Presses': [],\n",
       "  'IsInstruction': False,\n",
       "  'TrialOrder': 9}]"
      ]
     },
     "execution_count": 13,
     "metadata": {},
     "output_type": "execute_result"
    }
   ],
   "source": [
    "real_trials[:5]"
   ]
  },
  {
   "cell_type": "code",
   "execution_count": 14,
   "metadata": {},
   "outputs": [],
   "source": [
    "with open('boundary_dictionary.json') as f:\n",
    "    boundary_info = json.load(f)\n",
    "    \n",
    "with open('length_dictionary.json') as f:\n",
    "    length_info = json.load(f)"
   ]
  },
  {
   "cell_type": "code",
   "execution_count": 15,
   "metadata": {},
   "outputs": [],
   "source": [
    "iti=200\n",
    "boundary_info_sec={}\n",
    "for uv in boundary_info:\n",
    "    locations=np.hstack(list(boundary_info[uv].values()))\n",
    "    \n",
    "    locations_ms=[i*iti/1000 for i in locations]\n",
    "    boundary_info_sec[uv]=locations_ms"
   ]
  },
  {
   "cell_type": "code",
   "execution_count": 229,
   "metadata": {},
   "outputs": [],
   "source": [
    "# how I made the length_dictionary (had to do it outside of the notebook because I don't have ffprobe loaded)\n",
    "#movie_folder='/gpfs/milgram/scratch/turk-browne/tsy6/physical_events/movies_est/'\n",
    "#video_link=movie_folder+vid+'*'\n",
    "#video_link\n",
    "#duration = !ffprobe -v error -show_entries format=duration -of default=noprint_wrappers=1:nokey=1 {video_link}\n",
    "#duration = 8.384000\n",
    "#length_dict[vid] = duration"
   ]
  },
  {
   "cell_type": "code",
   "execution_count": 208,
   "metadata": {},
   "outputs": [],
   "source": [
    "bin_size=5 # every 200 ms (1/5 = 0.200 seconds)"
   ]
  },
  {
   "cell_type": "code",
   "execution_count": 209,
   "metadata": {},
   "outputs": [
    {
     "name": "stdout",
     "output_type": "stream",
     "text": [
      "collision_collision311\n",
      "10\n",
      "(53, 10)\n",
      "Number of events: 2-6 (average=3.50)\n",
      "collision_collision312\n",
      "10\n",
      "(63, 10)\n",
      "Number of events: 2-5 (average=2.90)\n",
      "collision_containment315\n",
      "9\n",
      "(71, 9)\n",
      "Number of events: 2-7 (average=4.22)\n",
      "collision_containment5313\n",
      "10\n",
      "(63, 10)\n",
      "Number of events: 2-7 (average=4.00)\n",
      "collision_falling998\n",
      "10\n",
      "(60, 10)\n",
      "Number of events: 1-9 (average=5.10)\n",
      "collision_falling3998\n",
      "10\n",
      "(42, 10)\n",
      "Number of events: 3-8 (average=5.10)\n",
      "collision_occlusion315\n",
      "10\n",
      "(53, 10)\n",
      "Number of events: 1-4 (average=2.20)\n",
      "collision_occlusion3311\n",
      "10\n",
      "(44, 10)\n",
      "Number of events: 1-4 (average=2.60)\n",
      "containment_collision308\n",
      "10\n",
      "(52, 10)\n",
      "Number of events: 1-5 (average=2.60)\n",
      "containment_collision314\n",
      "10\n",
      "(56, 10)\n",
      "Number of events: 1-4 (average=2.60)\n",
      "containment_containment319\n",
      "10\n",
      "(34, 10)\n",
      "Number of events: 1-3 (average=2.00)\n",
      "containment_containment4320\n",
      "10\n",
      "(70, 10)\n",
      "Number of events: 2-4 (average=3.00)\n",
      "containment_falling998\n",
      "10\n",
      "(43, 10)\n",
      "Number of events: 2-4 (average=2.90)\n",
      "containment_falling2998\n",
      "10\n",
      "(39, 10)\n",
      "Number of events: 1-5 (average=3.10)\n",
      "containment_occlusion3314\n",
      "10\n",
      "(38, 10)\n",
      "Number of events: 1-4 (average=2.70)\n",
      "containment_occlusion5314\n",
      "10\n",
      "(35, 10)\n",
      "Number of events: 1-4 (average=2.70)\n",
      "falling_collision998\n",
      "10\n",
      "(38, 10)\n",
      "Number of events: 1-6 (average=2.90)\n",
      "falling_collision4998\n",
      "10\n",
      "(48, 10)\n",
      "Number of events: 1-5 (average=2.90)\n",
      "falling_containment988\n",
      "10\n",
      "(30, 10)\n",
      "Number of events: 1-4 (average=2.20)\n",
      "falling_containment998\n",
      "10\n",
      "(35, 10)\n",
      "Number of events: 1-4 (average=2.10)\n",
      "falling_falling316\n",
      "10\n",
      "(37, 10)\n",
      "Number of events: 2-6 (average=3.90)\n",
      "falling_falling4316\n",
      "10\n",
      "(37, 10)\n",
      "Number of events: 2-5 (average=3.50)\n",
      "falling_occlusion998\n",
      "9\n",
      "(36, 9)\n",
      "Number of events: 1-6 (average=3.00)\n",
      "falling_occlusion5998\n",
      "10\n",
      "(36, 10)\n",
      "Number of events: 1-4 (average=2.60)\n",
      "occlusion_collision4310\n",
      "10\n",
      "(51, 10)\n",
      "Number of events: 1-5 (average=3.10)\n",
      "occlusion_collision4311\n",
      "10\n",
      "(65, 10)\n",
      "Number of events: 1-5 (average=3.10)\n",
      "occlusion_containment308\n",
      "10\n",
      "(58, 10)\n",
      "Number of events: 1-4 (average=3.40)\n",
      "occlusion_containment312\n",
      "10\n",
      "(56, 10)\n",
      "Number of events: 1-4 (average=2.90)\n",
      "occlusion_falling998\n",
      "10\n",
      "(40, 10)\n",
      "Number of events: 1-5 (average=2.80)\n",
      "occlusion_falling2319\n",
      "10\n",
      "(57, 10)\n",
      "Number of events: 1-4 (average=2.60)\n",
      "occlusion_occlusion307\n",
      "10\n",
      "(47, 10)\n",
      "Number of events: 1-5 (average=3.60)\n",
      "occlusion_occlusion310\n",
      "10\n",
      "(42, 10)\n",
      "Number of events: 2-5 (average=3.90)\n"
     ]
    }
   ],
   "source": [
    "all_timecourses={}\n",
    "percentages=[]\n",
    "non_boundary_percentages=[]\n",
    "\n",
    "plot=False\n",
    "\n",
    "for vid in boundary_info_sec:\n",
    "    print(vid)\n",
    "    \n",
    "    sub_trials=[x for x in real_trials if vid in x['TrialName']]\n",
    "    print(len(sub_trials))\n",
    "\n",
    "    duration=length_info[vid]\n",
    "    \n",
    "    duration_resample=duration*bin_size \n",
    "\n",
    "    # create an aggregate matrix of responses \n",
    "    output = np.zeros((np.int(np.round(duration_resample)), len(sub_trials)))\n",
    "\n",
    "    for counter, ppt in enumerate(sub_trials):\n",
    "        rounded_vals =  np.round(np.array(ppt['Boundaries'],dtype=float),decimals=1)\n",
    "\n",
    "        if sum(rounded_vals*bin_size >= np.int(np.round(duration_resample))) > 0: # if any were at the end of the movie, ignore\n",
    "            idx=np.where(rounded_vals*bin_size >= np.int(np.round(duration_resample)))[0]\n",
    "            rounded_vals=np.delete(rounded_vals,idx)\n",
    "\n",
    "        indices = np.array(rounded_vals*bin_size,dtype=int)\n",
    "        output[indices,counter] = 1\n",
    "    print(output.shape)\n",
    "\n",
    "    average_keypresses = output.sum(axis=1)\n",
    "    num_events=output.sum(axis=0)\n",
    "    print('Number of events: %d-%d (average=%0.2f)' %(np.min(num_events),\n",
    "                                                                 np.max(num_events),np.nanmean(num_events)))\n",
    "    \n",
    "    expert_bounds=np.array(boundary_info_sec[vid])*bin_size\n",
    "    non_expert_bounds=np.delete(np.arange(len(average_keypresses)),np.array(expert_bounds,int))\n",
    "        \n",
    "    if plot == True:\n",
    "        plt.plot(average_keypresses/len(sub_trials),color='midnightblue')\n",
    "        plt.title(vid)\n",
    "        plt.xlabel(\"time in movie\")\n",
    "        plt.ylabel(\"proportion responding to event boundary\")\n",
    "        plt.axis([0, len(average_keypresses), 0, 1])\n",
    "\n",
    "        for b in expert_bounds:\n",
    "            plt.axvline(b,color='darkgreen',linestyle='dashed')\n",
    "\n",
    "        plt.legend(['subject responses','expert response'])\n",
    "\n",
    "    \n",
    "    all_timecourses[vid]=average_keypresses/len(sub_trials)\n",
    "    percentages.extend(average_keypresses[np.array(expert_bounds,int)]/len(sub_trials))\n",
    "    non_boundary_percentages.extend(average_keypresses[np.array(non_expert_bounds,int)]/len(sub_trials))\n",
    "    \n",
    "    "
   ]
  },
  {
   "cell_type": "code",
   "execution_count": 210,
   "metadata": {},
   "outputs": [
    {
     "name": "stdout",
     "output_type": "stream",
     "text": [
      "Boundaries; Mean percent overlap: 0.27027777777777773\n",
      "pval vs 0: 1.0605147650653277e-19\n",
      "Non-Boundaries; Mean percent overlap: 0.053899240855762594\n",
      "pval vs 0: 2.353534297682805e-65\n",
      "pval diff: 1.4764519315574673e-51\n"
     ]
    },
    {
     "data": {
      "image/png": "[encoded data removed]",
      "text/plain": [
       "<Figure size 432x288 with 1 Axes>"
      ]
     },
     "metadata": {
      "needs_background": "light"
     },
     "output_type": "display_data"
    }
   ],
   "source": [
    "v=plt.violinplot(percentages,positions=[0],showextrema=False,showmeans=True)\n",
    "v['bodies'][0].set_facecolor('darkcyan')\n",
    "v['cmeans'].set_color('darkcyan')\n",
    "\n",
    "v=plt.violinplot(non_boundary_percentages,positions=[1],showextrema=False,showmeans=True)\n",
    "v['bodies'][0].set_facecolor('darkolivegreen')\n",
    "v['cmeans'].set_color('darkolivegreen')\n",
    "\n",
    "plt.xticks([0,1],['expert bounds','non bounds'])\n",
    "plt.ylabel('proportion response\\n to boundaries')\n",
    "\n",
    "print('Boundaries; Mean percent overlap:',np.mean(percentages))\n",
    "print('pval vs 0:',stats.ttest_1samp(percentages,0)[1])\n",
    "\n",
    "print('Non-Boundaries; Mean percent overlap:',np.mean(non_boundary_percentages))\n",
    "print('pval vs 0:',stats.ttest_1samp(non_boundary_percentages,0)[1])\n",
    "\n",
    "print('pval diff:',stats.ttest_ind(percentages,non_boundary_percentages)[1])"
   ]
  },
  {
   "cell_type": "code",
   "execution_count": 211,
   "metadata": {},
   "outputs": [
    {
     "data": {
      "text/plain": [
       "80"
      ]
     },
     "execution_count": 211,
     "metadata": {},
     "output_type": "execute_result"
    }
   ],
   "source": [
    "len(percentages)"
   ]
  },
  {
   "cell_type": "code",
   "execution_count": 212,
   "metadata": {},
   "outputs": [
    {
     "data": {
      "text/plain": [
       "1449"
      ]
     },
     "execution_count": 212,
     "metadata": {},
     "output_type": "execute_result"
    }
   ],
   "source": [
    "len(non_boundary_percentages)"
   ]
  },
  {
   "cell_type": "markdown",
   "metadata": {},
   "source": [
    "## Compare to experiment 1 (temporal probes)"
   ]
  },
  {
   "cell_type": "code",
   "execution_count": 213,
   "metadata": {},
   "outputs": [],
   "source": [
    "exp1_data=np.load('trialdata_dict_55.npy',allow_pickle=True)"
   ]
  },
  {
   "cell_type": "code",
   "execution_count": 214,
   "metadata": {},
   "outputs": [],
   "source": [
    "movie_loc='/gpfs/milgram/scratch/turk-browne/tsy6/physical_events/movies/'"
   ]
  },
  {
   "cell_type": "code",
   "execution_count": 215,
   "metadata": {},
   "outputs": [
    {
     "name": "stderr",
     "output_type": "stream",
     "text": [
      "/gpfs/milgram/project/turk-browne/users/tsy6/conda_envs/nlp/lib/python3.6/site-packages/ipykernel_launcher.py:12: RuntimeWarning: invalid value encountered in true_divide\n",
      "  if sys.path[0] == '':\n"
     ]
    }
   ],
   "source": [
    "for sub in np.unique(exp1_data[:,0]):\n",
    "    sub_trials=exp1_data[exp1_data[:,0]==sub,3]\n",
    "    #real_trials=[x for x in sub_trials if 'TrialName' in x]\n",
    "    \n",
    "    conf_vals=[]\n",
    "    for trial in sub_trials:\n",
    "        if 'TrialName' in trial:\n",
    "            conf_vals.append(np.int(trial['Confidence']))\n",
    "        else:\n",
    "            conf_vals.append(np.nan)\n",
    "    \n",
    "    zscore_conf=(conf_vals-np.nanmean(conf_vals))/np.nanstd(conf_vals)\n",
    "\n",
    "    for t, trial in enumerate(sub_trials):\n",
    "        if 'TrialName' in trial:\n",
    "            trial['Zscore_Conf']=zscore_conf[t]                     \n",
    "                    \n",
    "            \n",
    "    exp1_data[exp1_data[:,0]==sub,3]=sub_trials"
   ]
  },
  {
   "cell_type": "code",
   "execution_count": 216,
   "metadata": {},
   "outputs": [
    {
     "name": "stdout",
     "output_type": "stream",
     "text": [
      "5280\n"
     ]
    }
   ],
   "source": [
    "exp1_trials=[x for x in exp1_data[:,3] if 'TrialName' in x]\n",
    "print(len(exp1_trials))"
   ]
  },
  {
   "cell_type": "code",
   "execution_count": 217,
   "metadata": {
    "scrolled": true
   },
   "outputs": [
    {
     "name": "stdout",
     "output_type": "stream",
     "text": [
      "*Ignoring 96 trials (1.82 percent) for multiple space bar presses\n"
     ]
    }
   ],
   "source": [
    "remove_extra=1\n",
    "\n",
    "probe_names=[]\n",
    "no_probe_names=[]\n",
    "\n",
    "probes_space=[]\n",
    "no_probes_space=[]\n",
    "\n",
    "probes_confidence=[]\n",
    "no_probes_confidence=[]\n",
    "\n",
    "probes_conf_z=[]\n",
    "no_probes_conf_z=[]\n",
    "\n",
    "probes_pix=[]\n",
    "\n",
    "extra_spaces=[]\n",
    "\n",
    "for trial in exp1_trials:\n",
    "    \n",
    "    if len(trial['Spacebar'])==0:\n",
    "        space_timing=-1\n",
    "    elif len(trial['Spacebar'])>1:\n",
    "        \n",
    "        extra_spaces.append(trial['TrialName'])\n",
    "        \n",
    "        # do you want to remove the trials when the pressed the space bar multiple times? or just the first spacebar?\n",
    "        if remove_extra==1: \n",
    "            space_timing=-1\n",
    "        else: \n",
    "            space_timing=trial['Spacebar'][0]\n",
    "            \n",
    "    else:\n",
    "        space_timing=trial['Spacebar'][0]\n",
    "    \n",
    "    if 'non-visible' in trial['TrialName']:\n",
    "        no_probe_names.append(trial['TrialName'])\n",
    "        no_probes_space.append(space_timing)\n",
    "        no_probes_confidence.append(np.int(trial['Confidence']))\n",
    "        no_probes_conf_z.append(float(trial['Zscore_Conf']))\n",
    "        \n",
    "    else:\n",
    "        \n",
    "        probe_names.append(trial['TrialName'])\n",
    "        probes_space.append(space_timing)\n",
    "        probes_confidence.append(np.int(trial['Confidence']))\n",
    "        probes_conf_z.append(float(trial['Zscore_Conf']))\n",
    "        \n",
    "        file='pixel_changes/'+trial['TrialName'].split('/')[0]+'_pixel_changes.json'\n",
    "        with open(file) as f:\n",
    "            video_dict=json.load(f)\n",
    "        \n",
    "        avg_pix_change=video_dict[movie_loc+trial['TrialName']]\n",
    "        probes_pix.append(avg_pix_change)\n",
    "        \n",
    "\n",
    "if remove_extra==1 and len(extra_spaces)>1:        \n",
    "    print('*Ignoring %d trials (%0.2f percent) for multiple space bar presses' %(len(extra_spaces),len(extra_spaces)/len(exp1_trials)*100))\n",
    "else:\n",
    "    print('Using the first space bar press for %d trials for multiple space bar presses' %(len(extra_spaces)))"
   ]
  },
  {
   "cell_type": "code",
   "execution_count": 218,
   "metadata": {},
   "outputs": [],
   "source": [
    "detected=np.array(probes_space)\n",
    "detected[detected>-1]=1"
   ]
  },
  {
   "cell_type": "code",
   "execution_count": 219,
   "metadata": {},
   "outputs": [
    {
     "data": {
      "text/plain": [
       "array([ 1,  1, -1, ..., -1,  1,  1])"
      ]
     },
     "execution_count": 219,
     "metadata": {},
     "output_type": "execute_result"
    }
   ],
   "source": [
    "detected"
   ]
  },
  {
   "cell_type": "code",
   "execution_count": 220,
   "metadata": {},
   "outputs": [],
   "source": [
    "probes_num=[]\n",
    "\n",
    "for i, probe in enumerate(probe_names):\n",
    "    base=probe.split('/')[0]\n",
    "    probe_num=probe.split('_')[-1].split('.')[0]\n",
    "    probes_num.append(probe_num)\n",
    "    \n",
    "probes_num=np.array(probes_num,dtype=int)      \n",
    "probes_time=[i*iti/1000 for i in probes_num]"
   ]
  },
  {
   "cell_type": "code",
   "execution_count": 221,
   "metadata": {},
   "outputs": [
    {
     "data": {
      "text/plain": [
       "['containment_containment4320',\n",
       " 'containment_occlusion3314',\n",
       " 'occlusion_containment312',\n",
       " 'falling_collision4998',\n",
       " 'occlusion_occlusion307']"
      ]
     },
     "execution_count": 221,
     "metadata": {},
     "output_type": "execute_result"
    }
   ],
   "source": [
    "base_names=[i.split('/')[0] for i in probe_names]\n",
    "base_names[:5]"
   ]
  },
  {
   "cell_type": "code",
   "execution_count": 222,
   "metadata": {},
   "outputs": [],
   "source": [
    "\n",
    "percentages_organized=np.zeros(len(probes_time))\n",
    "for p in range(len(probes_time)):\n",
    "    \n",
    "    movie_length=length_info[base_names[p]]\n",
    "    average_keypress=all_timecourses[base_names[p]]\n",
    "    \n",
    "    if probes_time[p]*bin_size >= np.int(np.round(movie_length)*bin_size): # if it was after the movie\n",
    "        percentages_organized[p]=np.nan\n",
    "    else:\n",
    "        percentages_organized[p]=average_keypress[np.int(probes_time[p]*bin_size)]\n",
    "    \n",
    "    "
   ]
  },
  {
   "cell_type": "code",
   "execution_count": 223,
   "metadata": {},
   "outputs": [],
   "source": [
    "temp=np.array(probes_space)\n",
    "temp[temp>-1]=1\n",
    "temp[temp==-1]=0"
   ]
  },
  {
   "cell_type": "code",
   "execution_count": 224,
   "metadata": {},
   "outputs": [],
   "source": [
    "average_detection=[]\n",
    "for percent in np.unique(percentages_organized):\n",
    "    average_detection.append(np.nanmean(temp[np.where(percentages_organized==percent)[0]]))"
   ]
  },
  {
   "cell_type": "code",
   "execution_count": 225,
   "metadata": {},
   "outputs": [
    {
     "name": "stdout",
     "output_type": "stream",
     "text": [
      "(-0.6446846106534468, 0.012807197021505744)\n"
     ]
    },
    {
     "data": {
      "image/png": "[encoded data removed]",
      "text/plain": [
       "<Figure size 432x288 with 1 Axes>"
      ]
     },
     "metadata": {
      "needs_background": "light"
     },
     "output_type": "display_data"
    }
   ],
   "source": [
    "mask=~np.isnan(np.unique(percentages_organized))*~np.isnan(average_detection)\n",
    "plt.scatter(np.unique(percentages_organized),average_detection)\n",
    "plt.xlabel('Proportion detected boundary (exp 2)')\n",
    "plt.ylabel('Proportion detected temporal probe (exp 1)')\n",
    "print(stats.pearsonr(np.unique(percentages_organized)[mask],np.array(average_detection)[mask]))"
   ]
  },
  {
   "cell_type": "code",
   "execution_count": 226,
   "metadata": {},
   "outputs": [],
   "source": [
    "temp=np.array(probes_space)\n",
    "temp[temp>-1]=1\n",
    "temp[temp==-1]=0"
   ]
  },
  {
   "cell_type": "code",
   "execution_count": 227,
   "metadata": {},
   "outputs": [],
   "source": [
    "\n",
    "percentages_organized=np.zeros(len(np.unique(probe_names)))\n",
    "detected_organized= np.zeros(len(np.unique(probe_names)))\n",
    "\n",
    "for p in range(len(np.unique(probe_names))):\n",
    "    \n",
    "    indices=np.where(np.array(probe_names)==np.unique(probe_names)[p])[0]\n",
    "    base_name=np.unique(probe_names)[p].split('/')[0]\n",
    "    \n",
    "    movie_length=length_info[base_name]\n",
    "    average_keypress=all_timecourses[base_name]\n",
    "    \n",
    "    if probes_time[indices[0]]*bin_size >= np.int(np.round(movie_length)*bin_size): # if it was after the movie\n",
    "        percentages_organized[p]=np.nan\n",
    "    else:\n",
    "        percentages_organized[p]=average_keypress[np.int(probes_time[indices[0]]*bin_size)]\n",
    "        \n",
    "    detected_organized[p]=np.mean(temp[indices])\n",
    "    \n",
    "    "
   ]
  },
  {
   "cell_type": "code",
   "execution_count": 228,
   "metadata": {},
   "outputs": [
    {
     "name": "stdout",
     "output_type": "stream",
     "text": [
      "(-0.3564401338596783, 1.8597386249336378e-22)\n"
     ]
    },
    {
     "data": {
      "image/png": "[encoded data removed]",
      "text/plain": [
       "<Figure size 432x288 with 1 Axes>"
      ]
     },
     "metadata": {
      "needs_background": "light"
     },
     "output_type": "display_data"
    }
   ],
   "source": [
    "mask=~np.isnan(percentages_organized)*~np.isnan(detected_organized)\n",
    "sns.regplot(percentages_organized,detected_organized)\n",
    "plt.xlabel('Proportion detected boundary (exp 2)')\n",
    "plt.ylabel('Proportion detected temporal probe (exp 1)')\n",
    "print(stats.pearsonr(percentages_organized[mask],detected_organized[mask]))"
   ]
  },
  {
   "cell_type": "code",
   "execution_count": null,
   "metadata": {},
   "outputs": [],
   "source": []
  },
  {
   "cell_type": "code",
   "execution_count": null,
   "metadata": {},
   "outputs": [],
   "source": []
  }
 ],
 "metadata": {
  "kernelspec": {
   "display_name": "Python 3",
   "language": "python",
   "name": "python3"
  },
  "language_info": {
   "codemirror_mode": {
    "name": "ipython",
    "version": 3
   },
   "file_extension": ".py",
   "mimetype": "text/x-python",
   "name": "python",
   "nbconvert_exporter": "python",
   "pygments_lexer": "ipython3",
   "version": "3.6.8"
  }
 },
 "nbformat": 4,
 "nbformat_minor": 2
}
