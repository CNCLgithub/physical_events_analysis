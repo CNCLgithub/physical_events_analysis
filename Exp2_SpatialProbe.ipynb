{
 "cells": [
  {
   "cell_type": "code",
   "execution_count": 1,
   "metadata": {},
   "outputs": [],
   "source": [
    "import pandas as pd\n",
    "import numpy as np\n",
    "import json\n",
    "\n",
    "import scipy.stats as stats\n",
    "from scipy.spatial import distance\n",
    "\n",
    "import matplotlib.pyplot as plt\n",
    "import seaborn as sns\n",
    "%matplotlib inline"
   ]
  },
  {
   "cell_type": "markdown",
   "metadata": {},
   "source": [
    "## Start analyses"
   ]
  },
  {
   "cell_type": "code",
   "execution_count": 2,
   "metadata": {},
   "outputs": [],
   "source": [
    "iti=0\n",
    "countdown=0\n",
    "\n",
    "min_rt=300\n",
    "max_rt=2500"
   ]
  },
  {
   "cell_type": "code",
   "execution_count": 3,
   "metadata": {},
   "outputs": [],
   "source": [
    "actual_data=np.load('data_files/trialdata_spatial_dict.npy',allow_pickle=True)"
   ]
  },
  {
   "cell_type": "code",
   "execution_count": 4,
   "metadata": {},
   "outputs": [],
   "source": [
    "subject_data_dict=dict()\n",
    "for sub in np.unique(actual_data[:,0]):\n",
    "    sub_trials=actual_data[actual_data[:,0]==sub,3]\n",
    "    \n",
    "    conf_vals=[]\n",
    "    for trial in sub_trials:\n",
    "        if 'TrialName' in trial:\n",
    "            conf_vals.append(int(trial['Confidence']))\n",
    "        else:\n",
    "            conf_vals.append(np.nan)\n",
    "    \n",
    "    zscore_conf=(conf_vals-np.nanmean(conf_vals))/np.nanstd(conf_vals)\n",
    "\n",
    "    for t, trial in enumerate(sub_trials):\n",
    "        if 'TrialName' in trial:\n",
    "            trial['Zscore_Conf']=zscore_conf[t]                     \n",
    "           \n",
    "    actual_data[actual_data[:,0]==sub,3]=sub_trials\n",
    "    \n",
    "    subject_data_dict[sub]=[x for x in sub_trials if 'TrialName' in x]"
   ]
  },
  {
   "cell_type": "code",
   "execution_count": 5,
   "metadata": {},
   "outputs": [
    {
     "name": "stdout",
     "output_type": "stream",
     "text": [
      "15\n",
      "13\n"
     ]
    }
   ],
   "source": [
    "# Figure out how many in each group \n",
    "group1=[sub for sub in subject_data_dict.keys() if 'occlusion_collision_topple_T1.mp4'\n",
    " in [i['TrialName'] for i in subject_data_dict[sub]]]\n",
    "print(len(group1))\n",
    "\n",
    "group2=[sub for sub in subject_data_dict.keys() if 'occlusion_collision_topple_C1.mp4'\n",
    " in [i['TrialName'] for i in subject_data_dict[sub]]]\n",
    "print(len(group2))"
   ]
  },
  {
   "cell_type": "code",
   "execution_count": 6,
   "metadata": {},
   "outputs": [
    {
     "name": "stdout",
     "output_type": "stream",
     "text": [
      "Target: 26, Control: 32, No probe: 6\n"
     ]
    }
   ],
   "source": [
    "names=[i['TrialName'] for i in subject_data_dict[group1[0]]]\n",
    "\n",
    "num_target=0\n",
    "num_control=0\n",
    "num_no=0\n",
    "for name in names:\n",
    "    if name[-6:-5]=='T': # if its a probe trial \n",
    "        num_target+=1\n",
    "    elif name[-6:-5]=='C':\n",
    "        num_control+=1\n",
    "    else:\n",
    "        num_no+=1\n",
    "        \n",
    "print('Target: %d, Control: %d, No probe: %d' %(num_target, num_control, num_no))"
   ]
  },
  {
   "cell_type": "code",
   "execution_count": 7,
   "metadata": {},
   "outputs": [
    {
     "name": "stdout",
     "output_type": "stream",
     "text": [
      "Target: 26, Control: 32, No probe: 6\n"
     ]
    }
   ],
   "source": [
    "names=[i['TrialName'] for i in subject_data_dict[group1[0]]]\n",
    "\n",
    "num_target=0\n",
    "num_control=0\n",
    "num_no=0\n",
    "for name in names:\n",
    "    if name[-6:-5]=='T': # if its a probe trial \n",
    "        num_target+=1\n",
    "    elif name[-6:-5]=='C':\n",
    "        num_control+=1\n",
    "    else:\n",
    "        num_no+=1\n",
    "        \n",
    "print('Target: %d, Control: %d, No probe: %d' %(num_target, num_control, num_no))"
   ]
  },
  {
   "cell_type": "code",
   "execution_count": 8,
   "metadata": {},
   "outputs": [
    {
     "name": "stdout",
     "output_type": "stream",
     "text": [
      "1792\n"
     ]
    }
   ],
   "source": [
    "real_trials=[x for x in actual_data[:,3] if 'TrialName' in x]\n",
    "print(len(real_trials))"
   ]
  },
  {
   "cell_type": "code",
   "execution_count": 9,
   "metadata": {},
   "outputs": [
    {
     "data": {
      "text/html": [
       "<div>\n",
       "<style scoped>\n",
       "    .dataframe tbody tr th:only-of-type {\n",
       "        vertical-align: middle;\n",
       "    }\n",
       "\n",
       "    .dataframe tbody tr th {\n",
       "        vertical-align: top;\n",
       "    }\n",
       "\n",
       "    .dataframe thead th {\n",
       "        text-align: right;\n",
       "    }\n",
       "</style>\n",
       "<table border=\"1\" class=\"dataframe\">\n",
       "  <thead>\n",
       "    <tr style=\"text-align: right;\">\n",
       "      <th></th>\n",
       "      <th>video_name</th>\n",
       "      <th>probe_type</th>\n",
       "      <th>Time_1</th>\n",
       "      <th>Event_1</th>\n",
       "      <th>Coords_A1</th>\n",
       "      <th>Coords_T1</th>\n",
       "      <th>Coords_C1</th>\n",
       "      <th>Time_2</th>\n",
       "      <th>Event_2</th>\n",
       "      <th>Coords_A2</th>\n",
       "      <th>Coords_T2</th>\n",
       "      <th>Coords_C2</th>\n",
       "      <th>Time_3</th>\n",
       "      <th>Event_3</th>\n",
       "      <th>Coords_A3</th>\n",
       "      <th>Coords_T3</th>\n",
       "      <th>Coords_C3</th>\n",
       "    </tr>\n",
       "  </thead>\n",
       "  <tbody>\n",
       "    <tr>\n",
       "      <th>0</th>\n",
       "      <td>collision_collision_containment</td>\n",
       "      <td>E_Key</td>\n",
       "      <td>1:18</td>\n",
       "      <td>1:27</td>\n",
       "      <td>1170, 875</td>\n",
       "      <td>710, 875</td>\n",
       "      <td>650, 960</td>\n",
       "      <td>3:01</td>\n",
       "      <td>3:27</td>\n",
       "      <td>800, 875</td>\n",
       "      <td>535, 875</td>\n",
       "      <td>470, 915</td>\n",
       "      <td>NaN</td>\n",
       "      <td>NaN</td>\n",
       "      <td>NaN</td>\n",
       "      <td>NaN</td>\n",
       "      <td>NaN</td>\n",
       "    </tr>\n",
       "    <tr>\n",
       "      <th>1</th>\n",
       "      <td>collision_collision_occlusion</td>\n",
       "      <td>F_Key</td>\n",
       "      <td>2:12</td>\n",
       "      <td>2:27</td>\n",
       "      <td>930, 860</td>\n",
       "      <td>735, 860</td>\n",
       "      <td>775, 965</td>\n",
       "      <td>4:09</td>\n",
       "      <td>5:17</td>\n",
       "      <td>575, 860</td>\n",
       "      <td>410, 890</td>\n",
       "      <td>365, 1000</td>\n",
       "      <td>NaN</td>\n",
       "      <td>NaN</td>\n",
       "      <td>NaN</td>\n",
       "      <td>NaN</td>\n",
       "      <td>NaN</td>\n",
       "    </tr>\n",
       "    <tr>\n",
       "      <th>2</th>\n",
       "      <td>collision_falling_occlusion</td>\n",
       "      <td>E_Key</td>\n",
       "      <td>0:25</td>\n",
       "      <td>1:00</td>\n",
       "      <td>1650, 250</td>\n",
       "      <td>1550, 255</td>\n",
       "      <td>1515, 510</td>\n",
       "      <td>2:05</td>\n",
       "      <td>2:20</td>\n",
       "      <td>505, 855</td>\n",
       "      <td>295, 900</td>\n",
       "      <td>290, 1000</td>\n",
       "      <td>NaN</td>\n",
       "      <td>NaN</td>\n",
       "      <td>NaN</td>\n",
       "      <td>NaN</td>\n",
       "      <td>NaN</td>\n",
       "    </tr>\n",
       "    <tr>\n",
       "      <th>3</th>\n",
       "      <td>collision_occlusion_collision</td>\n",
       "      <td>F_Key</td>\n",
       "      <td>1:07</td>\n",
       "      <td>1:29</td>\n",
       "      <td>1120, 850</td>\n",
       "      <td>900, 870</td>\n",
       "      <td>890, 950</td>\n",
       "      <td>3:00</td>\n",
       "      <td>3:17</td>\n",
       "      <td>540, 850</td>\n",
       "      <td>320, 850</td>\n",
       "      <td>230, 930</td>\n",
       "      <td>NaN</td>\n",
       "      <td>NaN</td>\n",
       "      <td>NaN</td>\n",
       "      <td>NaN</td>\n",
       "      <td>NaN</td>\n",
       "    </tr>\n",
       "    <tr>\n",
       "      <th>4</th>\n",
       "      <td>collision_occlusion_containment</td>\n",
       "      <td>E_Key</td>\n",
       "      <td>1:08</td>\n",
       "      <td>1:29</td>\n",
       "      <td>1400, 860</td>\n",
       "      <td>1235, 860</td>\n",
       "      <td>1235, 980</td>\n",
       "      <td>2:29</td>\n",
       "      <td>3:27</td>\n",
       "      <td>870, 840</td>\n",
       "      <td>625, 840</td>\n",
       "      <td>515, 980</td>\n",
       "      <td>NaN</td>\n",
       "      <td>NaN</td>\n",
       "      <td>NaN</td>\n",
       "      <td>NaN</td>\n",
       "      <td>NaN</td>\n",
       "    </tr>\n",
       "  </tbody>\n",
       "</table>\n",
       "</div>"
      ],
      "text/plain": [
       "                        video_name probe_type Time_1 Event_1  Coords_A1  \\\n",
       "0  collision_collision_containment      E_Key   1:18    1:27  1170, 875   \n",
       "1    collision_collision_occlusion      F_Key   2:12    2:27   930, 860   \n",
       "2      collision_falling_occlusion      E_Key   0:25    1:00  1650, 250   \n",
       "3    collision_occlusion_collision      F_Key   1:07    1:29  1120, 850   \n",
       "4  collision_occlusion_containment      E_Key   1:08    1:29  1400, 860   \n",
       "\n",
       "   Coords_T1  Coords_C1 Time_2 Event_2 Coords_A2  Coords_T2  Coords_C2 Time_3  \\\n",
       "0   710, 875   650, 960   3:01    3:27  800, 875  535, 875    470, 915    NaN   \n",
       "1   735, 860   775, 965   4:09    5:17  575, 860   410, 890  365, 1000    NaN   \n",
       "2  1550, 255  1515, 510   2:05    2:20  505, 855   295, 900  290, 1000    NaN   \n",
       "3   900, 870   890, 950   3:00    3:17  540, 850   320, 850   230, 930    NaN   \n",
       "4  1235, 860  1235, 980   2:29    3:27  870, 840   625, 840   515, 980    NaN   \n",
       "\n",
       "  Event_3 Coords_A3 Coords_T3 Coords_C3  \n",
       "0     NaN       NaN       NaN       NaN  \n",
       "1     NaN       NaN       NaN       NaN  \n",
       "2     NaN       NaN       NaN       NaN  \n",
       "3     NaN       NaN       NaN       NaN  \n",
       "4     NaN       NaN       NaN       NaN  "
      ]
     },
     "execution_count": 9,
     "metadata": {},
     "output_type": "execute_result"
    }
   ],
   "source": [
    "key_mapping=pd.read_csv('exp4_video_key_mapping.csv',delimiter=',')\n",
    "key_mapping.head()"
   ]
  },
  {
   "cell_type": "code",
   "execution_count": 10,
   "metadata": {},
   "outputs": [
    {
     "name": "stdout",
     "output_type": "stream",
     "text": [
      "32 32\n"
     ]
    }
   ],
   "source": [
    "names=[i['TrialName'] for i in subject_data_dict[group2[0]]]\n",
    "\n",
    "keys=[]\n",
    "for name in names:\n",
    "    \n",
    "    \n",
    "    if name[-6:-5]=='T': # if its a probe trial \n",
    "        video=name.split('_T')[0]\n",
    "    elif name[-6:-5]=='C':\n",
    "        video=name.split('_C')[0]\n",
    "    else:\n",
    "        video=name.split('.mp4')[0]\n",
    "        \n",
    "    keys.append(key_mapping.probe_type[np.where(key_mapping.video_name==video)[0][0]])\n",
    "e=sum(np.array(keys)=='E_Key')\n",
    "f=sum(np.array(keys)=='F_Key')\n",
    "print(e,f)"
   ]
  },
  {
   "cell_type": "code",
   "execution_count": 11,
   "metadata": {
    "scrolled": true
   },
   "outputs": [],
   "source": [
    "remove_extra=1\n",
    "restrict_rt=1\n",
    "\n",
    "extra_keys=[]\n",
    "extra_keys_wrong=[]\n",
    "outofrange_rt=[]\n",
    "\n",
    "reorganized_data_dict=dict()\n",
    "\n",
    "for sub in subject_data_dict.keys():\n",
    "    # preset\n",
    "    reorganized_data_dict[sub]=dict()\n",
    "    reorganized_data_dict[sub]['names']=[]\n",
    "    reorganized_data_dict[sub]['probe']=[]\n",
    "    reorganized_data_dict[sub]['keypresses']=[]\n",
    "    reorganized_data_dict[sub]['key_type']=[]\n",
    "    reorganized_data_dict[sub]['wrong_keypresses']=[]\n",
    "    reorganized_data_dict[sub]['confidence']=[]\n",
    "    reorganized_data_dict[sub]['confidence_z']=[]\n",
    "    reorganized_data_dict[sub]['rt_correct']=[]\n",
    "    reorganized_data_dict[sub]['rt_wrong']=[]\n",
    "    \n",
    "    real_trials=subject_data_dict[sub]\n",
    "    \n",
    "    subject_exclude_counter=0\n",
    "\n",
    "    for trial in real_trials:\n",
    "\n",
    "        ignore_trial=False # preset\n",
    "\n",
    "        probe_num=trial['TrialName'].split('_')[-1].split('.')[0]\n",
    "\n",
    "        # Was this a probe or not?\n",
    "        if probe_num=='T1' or probe_num=='T2' or probe_num=='T3':\n",
    "            probe_type=1 # target probe\n",
    "            end_tag='_'+probe_num # reset\n",
    "            temp_key='Time_%s' % probe_num[1]\n",
    "        elif probe_num=='C1' or probe_num=='C2' or probe_num=='C3':\n",
    "            probe_type=2 # control probe\n",
    "            end_tag='_'+probe_num # reset\n",
    "            temp_key='Time_%s' % probe_num[1]\n",
    "        else:\n",
    "            temp_key='Time_1' # just make it the first one but it doesn't matter\n",
    "            probe_type=0 # no probe\n",
    "            end_tag='.mp4' # reset\n",
    "            \n",
    "        # what is the key press we are looking for?\n",
    "        video_name=trial['TrialName'].split(end_tag)[0]\n",
    "        key_type=np.array(key_mapping[key_mapping.video_name==video_name].probe_type)[0]\n",
    "\n",
    "        # what's the wrong key then? \n",
    "        if key_type=='E_Key':\n",
    "            wrong_key='F_Key'\n",
    "        elif key_type=='F_Key':\n",
    "            wrong_key='E_Key'\n",
    "\n",
    "        if len(trial[key_type])==0:\n",
    "            correct_key_timing=np.nan\n",
    "            rt_val_correct=np.nan\n",
    "\n",
    "        elif len(trial[key_type])>1:\n",
    "\n",
    "            # do you want to remove the trials when the pressed the space bar multiple times? or just the first spacebar?\n",
    "            if remove_extra==1: \n",
    "                rt_val_correct=np.nan\n",
    "                ignore_trial=True\n",
    "                subject_exclude_counter+=1\n",
    "\n",
    "            else: \n",
    "                correct_key_timing=trial[key_type][0]\n",
    "\n",
    "                probe_time=float(key_mapping[temp_key][np.where(key_mapping.video_name==video_name)[0][0]].replace(':','.'))*1000\n",
    "                rt_val_correct=correct_key_timing-probe_time  \n",
    "\n",
    "            extra_keys.append(trial[key_type])\n",
    "\n",
    "        else:\n",
    "            correct_key_timing=trial[key_type][0]\n",
    "            probe_time=float(key_mapping[temp_key][np.where(key_mapping.video_name==video_name)[0][0]].replace(':','.'))*1000\n",
    "            rt_val_correct=correct_key_timing-probe_time  \n",
    "\n",
    "        if len(trial[wrong_key])==0:\n",
    "            wrong_key_timing=np.nan\n",
    "            rt_val_wrong=np.nan\n",
    "\n",
    "        elif len(trial[wrong_key])>1:\n",
    "\n",
    "            # do you want to remove the trials when the pressed the space bar multiple times? or just the first spacebar?\n",
    "            if remove_extra==1: \n",
    "                rt_val_wrong=np.nan\n",
    "\n",
    "            else: \n",
    "                wrong_key_timing=trial[wrong_key][0]\n",
    "                probe_time=float(key_mapping[temp_key][np.where(key_mapping.video_name==video_name)[0][0]].replace(':','.'))*1000\n",
    "                rt_val_wrong=wrong_key_timing-probe_time  \n",
    "\n",
    "            extra_keys_wrong.append(trial[wrong_key])\n",
    "\n",
    "        else:\n",
    "            wrong_key_timing=trial[wrong_key][0]\n",
    "            probe_time=float(key_mapping[temp_key][np.where(key_mapping.video_name==video_name)[0][0]].replace(':','.'))*1000\n",
    "            rt_val_wrong=wrong_key_timing-probe_time  \n",
    "\n",
    "\n",
    "        # also ignore trial if they pressed both keys\n",
    "        if len(trial[key_type])>=1 and len(trial[wrong_key])>=1:\n",
    "            ignore_trial=True\n",
    "            subject_exclude_counter+=1\n",
    "            wrong_key_timing=np.nan\n",
    "            correct_key_timing=np.nan\n",
    "            rt_val_wrong=np.nan\n",
    "            rt_val_correct=np.nan\n",
    "\n",
    "            \n",
    "        # remember the trials with out of range RTs\n",
    "        if rt_val_correct > max_rt or rt_val_correct < min_rt:\n",
    "\n",
    "            outofrange_rt.append(rt_val_correct)\n",
    "\n",
    "            if restrict_rt==1:\n",
    "                ignore_trial=True\n",
    "                subject_exclude_counter+=1\n",
    "\n",
    "        # only save if the trial isn't bein excluded for some reason\n",
    "        if ignore_trial==False:\n",
    "            reorganized_data_dict[sub]['names']+=[trial['TrialName']]\n",
    "            reorganized_data_dict[sub]['probe']+=[probe_type]\n",
    "            reorganized_data_dict[sub]['keypresses']+=[correct_key_timing]\n",
    "            reorganized_data_dict[sub]['wrong_keypresses']+=[wrong_key_timing]\n",
    "            reorganized_data_dict[sub]['confidence']+=[trial['Confidence']]\n",
    "            reorganized_data_dict[sub]['confidence_z']+=[trial['Zscore_Conf']]\n",
    "            reorganized_data_dict[sub]['rt_correct']+=[rt_val_correct]\n",
    "            reorganized_data_dict[sub]['rt_wrong']+=[rt_val_wrong]\n",
    "            \n",
    "            # but only save the key type if we did show a probe\n",
    "            if probe_type==0:\n",
    "                reorganized_data_dict[sub]['key_type']+=['none']\n",
    "            else:\n",
    "                reorganized_data_dict[sub]['key_type']+=[key_type]\n",
    "\n",
    "    if subject_exclude_counter >= 32: \n",
    "        print('excluding participant %s (%d trials ignored)' %(sub,subject_exclude_counter))\n",
    "        reorganized_data_dict.pop(sub)"
   ]
  },
  {
   "cell_type": "markdown",
   "metadata": {},
   "source": [
    "### Probe detection"
   ]
  },
  {
   "cell_type": "code",
   "execution_count": 12,
   "metadata": {},
   "outputs": [
    {
     "name": "stdout",
     "output_type": "stream",
     "text": [
      "debug0iCMg:debugWY61I 23 31 4\n",
      "debugBEZtm:debugyuUEV 31 25 6\n",
      "debugDHa10:debugW00CK 25 29 6\n",
      "debugEKZo6:debugTZHgd 24 29 6\n",
      "debugF0Ygs:debugkaQeS 27 24 5\n",
      "debugGllfh:debug0IrHv 25 32 6\n",
      "debugJ5iCd:debugfh5y4 31 24 5\n",
      "debugMh0LT:debugcxEIB 24 27 6\n",
      "debugOMHPx:debugk4Hmz 26 32 6\n",
      "debugR7K73:debughs4QH 25 32 6\n",
      "debugSpTtY:debugElPAb 30 25 5\n",
      "debugT1mQA:debugSWcXn 32 24 6\n",
      "debugULpzm:debugiI7NU 32 26 6\n",
      "debugYi1CF:debugl3qvU 24 31 6\n",
      "debuga5s3v:debugMahYT 24 26 6\n",
      "debughcTSC:debugGNUKv 32 24 6\n",
      "debugkIJMc:debugQSmRA 23 31 6\n",
      "debugl1ZJT:debugcAxEj 25 29 6\n",
      "debuglOKep:debugscIb2 30 23 6\n",
      "debuglYWls:debug9gLtL 24 27 6\n",
      "debugmYRmd:debugoGlaW 31 24 6\n",
      "debugohwY9:debugGYEP1 30 23 6\n",
      "debugpg6Ov:debugVP4xk 24 28 5\n",
      "debugtV1Vf:debuggjVYU 24 32 6\n",
      "debugv0eK8:debugHQjFF 29 25 6\n",
      "debugw1cvt:debuggVhaX 26 31 6\n",
      "debugxrt6i:debugZWrJP 30 26 6\n",
      "debugyWHpH:debugLKCkP 22 18 5\n"
     ]
    }
   ],
   "source": [
    "all_probes_target=[]\n",
    "all_probes_control=[]\n",
    "\n",
    "num_target=[]\n",
    "num_control=[]\n",
    "for sub in reorganized_data_dict.keys():\n",
    "    probe_names=reorganized_data_dict[sub]['names']\n",
    "    \n",
    "    probes_target=[]\n",
    "    probes_control=[]\n",
    "    no_probes=[]\n",
    "    \n",
    "    for i, probe in enumerate(probe_names):\n",
    "\n",
    "        if reorganized_data_dict[sub]['probe'][i]==1: # if its a probe trial \n",
    "            probes_target.append(~np.isnan(reorganized_data_dict[sub]['keypresses'][i]))\n",
    "        elif reorganized_data_dict[sub]['probe'][i]==2:\n",
    "            probes_control.append(~np.isnan(reorganized_data_dict[sub]['keypresses'][i]))\n",
    "        else:\n",
    "            no_probes.append(~np.isnan(reorganized_data_dict[sub]['keypresses'][i]))\n",
    "\n",
    "    print(sub,len(probes_target),len(probes_control), len(no_probes))\n",
    "    num_target.append(len(probes_target))\n",
    "    num_control.append(len(probes_control))\n",
    "    \n",
    "    all_probes_target.append(np.nansum(probes_target)/len(probes_target))\n",
    "    all_probes_control.append(np.nansum(probes_control)/len(probes_control))\n"
   ]
  },
  {
   "cell_type": "code",
   "execution_count": 13,
   "metadata": {},
   "outputs": [
    {
     "name": "stdout",
     "output_type": "stream",
     "text": [
      "Average target detected: = 0.4931 (N=26.89 average)\n",
      "Average control detected: = 0.4171 (N=27.07 average)\n"
     ]
    }
   ],
   "source": [
    "print('Average target detected: = %0.4f (N=%0.2f average)'%(np.nanmean(all_probes_target),\n",
    "                                                             np.nanmean(num_target)))\n",
    "print('Average control detected: = %0.4f (N=%0.2f average)'%(np.nanmean(all_probes_control),\n",
    "                                                                    np.nanmean(num_control)))"
   ]
  },
  {
   "cell_type": "code",
   "execution_count": 14,
   "metadata": {},
   "outputs": [
    {
     "data": {
      "text/plain": [
       "28"
      ]
     },
     "execution_count": 14,
     "metadata": {},
     "output_type": "execute_result"
    }
   ],
   "source": [
    "len(all_probes_target)"
   ]
  },
  {
   "cell_type": "code",
   "execution_count": 15,
   "metadata": {},
   "outputs": [
    {
     "name": "stdout",
     "output_type": "stream",
     "text": [
      "Ttest_relResult(statistic=3.542324452104427, pvalue=0.00146480643726191)\n"
     ]
    },
    {
     "data": {
      "image/png": "[encoded data removed]",
      "text/plain": [
       "<Figure size 216x360 with 1 Axes>"
      ]
     },
     "metadata": {
      "needs_background": "light"
     },
     "output_type": "display_data"
    }
   ],
   "source": [
    "fig=plt.figure(figsize=(3,5))\n",
    "bounds_detect_df=pd.DataFrame({'vals':np.hstack((all_probes_target,all_probes_control)),\n",
    "                               'bounds_status':np.hstack((np.zeros(len(all_probes_target)),\n",
    "                                                          np.ones(len(all_probes_control))))})\n",
    "\n",
    "sns.barplot(x='bounds_status',y='vals',data=bounds_detect_df,palette=['darkred','navy'],alpha=0.5)\n",
    "sns.stripplot(x='bounds_status',y='vals',data=bounds_detect_df,palette=['darkred','navy'],alpha=0.5)\n",
    "plt.xticks([0,1],['Target','Control'])\n",
    "plt.ylabel('Proportion detected')\n",
    "plt.ylim(-0.075,1.075)\n",
    "print(stats.ttest_rel(all_probes_target,all_probes_control,nan_policy='omit'))\n",
    "\n",
    "fig.savefig('svgs/exp2_spatialprobe/subjectwise_boundary_detection.svg')\n"
   ]
  },
  {
   "cell_type": "code",
   "execution_count": 16,
   "metadata": {},
   "outputs": [
    {
     "data": {
      "text/plain": [
       "0.6817206586598282"
      ]
     },
     "execution_count": 16,
     "metadata": {},
     "output_type": "execute_result"
    }
   ],
   "source": [
    "# Calculate the Cohen's D \n",
    "difference = np.array(all_probes_target) - np.array(all_probes_control)\n",
    "mean_diff = np.nanmean(difference)\n",
    "sd_diff = np.nanstd(difference)\n",
    "\n",
    "d = mean_diff/sd_diff\n",
    "d"
   ]
  },
  {
   "cell_type": "code",
   "execution_count": 33,
   "metadata": {},
   "outputs": [
    {
     "name": "stdout",
     "output_type": "stream",
     "text": [
      "23\n"
     ]
    },
    {
     "data": {
      "image/png": "[encoded data removed]",
      "text/plain": [
       "<Figure size 288x576 with 1 Axes>"
      ]
     },
     "metadata": {
      "needs_background": "light"
     },
     "output_type": "display_data"
    }
   ],
   "source": [
    "sub_differences=np.array(all_probes_target)-np.array(all_probes_control)\n",
    "\n",
    "neg_vals=np.where(np.sort(sub_differences)<=0)[0]\n",
    "pos_vals=np.where(np.sort(sub_differences)>0)[0]\n",
    "colors=np.hstack((np.repeat('grey',len(neg_vals)),np.repeat('indigo',len(pos_vals))))\n",
    "\n",
    "print(len(pos_vals))\n",
    "fig,ax=plt.subplots(1,figsize=(4,8))\n",
    "ax.barh(np.arange(len(sub_differences)),np.sort(sub_differences),color=colors)\n",
    "ax.invert_yaxis()\n",
    "fig.savefig('svgs/exp2_spatialprobe/subjectwise_target_detection_differences.svg')"
   ]
  },
  {
   "cell_type": "markdown",
   "metadata": {},
   "source": [
    "### Controlling for distance to the agent "
   ]
  },
  {
   "cell_type": "code",
   "execution_count": 18,
   "metadata": {},
   "outputs": [
    {
     "name": "stdout",
     "output_type": "stream",
     "text": [
      "debug0iCMg:debugWY61I 23 31\n",
      "debugBEZtm:debugyuUEV 31 25\n",
      "debugDHa10:debugW00CK 25 29\n",
      "debugEKZo6:debugTZHgd 24 29\n",
      "debugF0Ygs:debugkaQeS 27 24\n",
      "debugGllfh:debug0IrHv 25 32\n",
      "debugJ5iCd:debugfh5y4 31 24\n",
      "debugMh0LT:debugcxEIB 24 27\n",
      "debugOMHPx:debugk4Hmz 26 32\n",
      "debugR7K73:debughs4QH 25 32\n",
      "debugSpTtY:debugElPAb 30 25\n",
      "debugT1mQA:debugSWcXn 32 24\n",
      "debugULpzm:debugiI7NU 32 26\n",
      "debugYi1CF:debugl3qvU 24 31\n",
      "debuga5s3v:debugMahYT 24 26\n",
      "debughcTSC:debugGNUKv 32 24\n",
      "debugkIJMc:debugQSmRA 23 31\n",
      "debugl1ZJT:debugcAxEj 25 29\n",
      "debuglOKep:debugscIb2 30 23\n",
      "debuglYWls:debug9gLtL 24 27\n",
      "debugmYRmd:debugoGlaW 31 24\n",
      "debugohwY9:debugGYEP1 30 23\n",
      "debugpg6Ov:debugVP4xk 24 28\n",
      "debugtV1Vf:debuggjVYU 24 32\n",
      "debugv0eK8:debugHQjFF 29 25\n",
      "debugw1cvt:debuggVhaX 26 31\n",
      "debugxrt6i:debugZWrJP 30 26\n",
      "debugyWHpH:debugLKCkP 22 18\n"
     ]
    }
   ],
   "source": [
    "all_probes_target=[]\n",
    "all_probes_control=[]\n",
    "\n",
    "num_target=[]\n",
    "num_control=[]\n",
    "for sub in reorganized_data_dict.keys():\n",
    "    probe_names=reorganized_data_dict[sub]['names']\n",
    "    \n",
    "    probes_target=[]\n",
    "    probes_control=[]\n",
    "    probes_non_boundaries=[]\n",
    "    \n",
    "    for i, probe in enumerate(probe_names):\n",
    "\n",
    "        if reorganized_data_dict[sub]['probe'][i]==1: # if its a probe trial \n",
    "            probes_target.append(~np.isnan(reorganized_data_dict[sub]['keypresses'][i]))\n",
    "        elif reorganized_data_dict[sub]['probe'][i]==2:\n",
    "            probes_control.append(~np.isnan(reorganized_data_dict[sub]['keypresses'][i]))\n",
    "\n",
    "    print(sub,len(probes_target),len(probes_control))\n",
    "    num_target.append(len(probes_target))\n",
    "    num_control.append(len(probes_control))\n",
    "    \n",
    "    all_probes_target.append(np.nansum(probes_target)/len(probes_target))\n",
    "    all_probes_control.append(np.nansum(probes_control)/len(probes_control))\n"
   ]
  },
  {
   "cell_type": "code",
   "execution_count": 19,
   "metadata": {},
   "outputs": [
    {
     "data": {
      "text/html": [
       "<div>\n",
       "<style scoped>\n",
       "    .dataframe tbody tr th:only-of-type {\n",
       "        vertical-align: middle;\n",
       "    }\n",
       "\n",
       "    .dataframe tbody tr th {\n",
       "        vertical-align: top;\n",
       "    }\n",
       "\n",
       "    .dataframe thead th {\n",
       "        text-align: right;\n",
       "    }\n",
       "</style>\n",
       "<table border=\"1\" class=\"dataframe\">\n",
       "  <thead>\n",
       "    <tr style=\"text-align: right;\">\n",
       "      <th></th>\n",
       "      <th>video_name</th>\n",
       "      <th>probe_type</th>\n",
       "      <th>Time_1</th>\n",
       "      <th>Event_1</th>\n",
       "      <th>Coords_A1</th>\n",
       "      <th>Coords_T1</th>\n",
       "      <th>Coords_C1</th>\n",
       "      <th>Time_2</th>\n",
       "      <th>Event_2</th>\n",
       "      <th>Coords_A2</th>\n",
       "      <th>Coords_T2</th>\n",
       "      <th>Coords_C2</th>\n",
       "      <th>Time_3</th>\n",
       "      <th>Event_3</th>\n",
       "      <th>Coords_A3</th>\n",
       "      <th>Coords_T3</th>\n",
       "      <th>Coords_C3</th>\n",
       "    </tr>\n",
       "  </thead>\n",
       "  <tbody>\n",
       "    <tr>\n",
       "      <th>0</th>\n",
       "      <td>collision_collision_containment</td>\n",
       "      <td>E_Key</td>\n",
       "      <td>1:18</td>\n",
       "      <td>1:27</td>\n",
       "      <td>1170, 875</td>\n",
       "      <td>710, 875</td>\n",
       "      <td>650, 960</td>\n",
       "      <td>3:01</td>\n",
       "      <td>3:27</td>\n",
       "      <td>800, 875</td>\n",
       "      <td>535, 875</td>\n",
       "      <td>470, 915</td>\n",
       "      <td>NaN</td>\n",
       "      <td>NaN</td>\n",
       "      <td>NaN</td>\n",
       "      <td>NaN</td>\n",
       "      <td>NaN</td>\n",
       "    </tr>\n",
       "    <tr>\n",
       "      <th>1</th>\n",
       "      <td>collision_collision_occlusion</td>\n",
       "      <td>F_Key</td>\n",
       "      <td>2:12</td>\n",
       "      <td>2:27</td>\n",
       "      <td>930, 860</td>\n",
       "      <td>735, 860</td>\n",
       "      <td>775, 965</td>\n",
       "      <td>4:09</td>\n",
       "      <td>5:17</td>\n",
       "      <td>575, 860</td>\n",
       "      <td>410, 890</td>\n",
       "      <td>365, 1000</td>\n",
       "      <td>NaN</td>\n",
       "      <td>NaN</td>\n",
       "      <td>NaN</td>\n",
       "      <td>NaN</td>\n",
       "      <td>NaN</td>\n",
       "    </tr>\n",
       "    <tr>\n",
       "      <th>2</th>\n",
       "      <td>collision_falling_occlusion</td>\n",
       "      <td>E_Key</td>\n",
       "      <td>0:25</td>\n",
       "      <td>1:00</td>\n",
       "      <td>1650, 250</td>\n",
       "      <td>1550, 255</td>\n",
       "      <td>1515, 510</td>\n",
       "      <td>2:05</td>\n",
       "      <td>2:20</td>\n",
       "      <td>505, 855</td>\n",
       "      <td>295, 900</td>\n",
       "      <td>290, 1000</td>\n",
       "      <td>NaN</td>\n",
       "      <td>NaN</td>\n",
       "      <td>NaN</td>\n",
       "      <td>NaN</td>\n",
       "      <td>NaN</td>\n",
       "    </tr>\n",
       "    <tr>\n",
       "      <th>3</th>\n",
       "      <td>collision_occlusion_collision</td>\n",
       "      <td>F_Key</td>\n",
       "      <td>1:07</td>\n",
       "      <td>1:29</td>\n",
       "      <td>1120, 850</td>\n",
       "      <td>900, 870</td>\n",
       "      <td>890, 950</td>\n",
       "      <td>3:00</td>\n",
       "      <td>3:17</td>\n",
       "      <td>540, 850</td>\n",
       "      <td>320, 850</td>\n",
       "      <td>230, 930</td>\n",
       "      <td>NaN</td>\n",
       "      <td>NaN</td>\n",
       "      <td>NaN</td>\n",
       "      <td>NaN</td>\n",
       "      <td>NaN</td>\n",
       "    </tr>\n",
       "    <tr>\n",
       "      <th>4</th>\n",
       "      <td>collision_occlusion_containment</td>\n",
       "      <td>E_Key</td>\n",
       "      <td>1:08</td>\n",
       "      <td>1:29</td>\n",
       "      <td>1400, 860</td>\n",
       "      <td>1235, 860</td>\n",
       "      <td>1235, 980</td>\n",
       "      <td>2:29</td>\n",
       "      <td>3:27</td>\n",
       "      <td>870, 840</td>\n",
       "      <td>625, 840</td>\n",
       "      <td>515, 980</td>\n",
       "      <td>NaN</td>\n",
       "      <td>NaN</td>\n",
       "      <td>NaN</td>\n",
       "      <td>NaN</td>\n",
       "      <td>NaN</td>\n",
       "    </tr>\n",
       "  </tbody>\n",
       "</table>\n",
       "</div>"
      ],
      "text/plain": [
       "                        video_name probe_type Time_1 Event_1  Coords_A1  \\\n",
       "0  collision_collision_containment      E_Key   1:18    1:27  1170, 875   \n",
       "1    collision_collision_occlusion      F_Key   2:12    2:27   930, 860   \n",
       "2      collision_falling_occlusion      E_Key   0:25    1:00  1650, 250   \n",
       "3    collision_occlusion_collision      F_Key   1:07    1:29  1120, 850   \n",
       "4  collision_occlusion_containment      E_Key   1:08    1:29  1400, 860   \n",
       "\n",
       "   Coords_T1  Coords_C1 Time_2 Event_2 Coords_A2  Coords_T2  Coords_C2 Time_3  \\\n",
       "0   710, 875   650, 960   3:01    3:27  800, 875  535, 875    470, 915    NaN   \n",
       "1   735, 860   775, 965   4:09    5:17  575, 860   410, 890  365, 1000    NaN   \n",
       "2  1550, 255  1515, 510   2:05    2:20  505, 855   295, 900  290, 1000    NaN   \n",
       "3   900, 870   890, 950   3:00    3:17  540, 850   320, 850   230, 930    NaN   \n",
       "4  1235, 860  1235, 980   2:29    3:27  870, 840   625, 840   515, 980    NaN   \n",
       "\n",
       "  Event_3 Coords_A3 Coords_T3 Coords_C3  \n",
       "0     NaN       NaN       NaN       NaN  \n",
       "1     NaN       NaN       NaN       NaN  \n",
       "2     NaN       NaN       NaN       NaN  \n",
       "3     NaN       NaN       NaN       NaN  \n",
       "4     NaN       NaN       NaN       NaN  "
      ]
     },
     "execution_count": 19,
     "metadata": {},
     "output_type": "execute_result"
    }
   ],
   "source": [
    "key_mapping.head()"
   ]
  },
  {
   "cell_type": "code",
   "execution_count": 20,
   "metadata": {},
   "outputs": [],
   "source": [
    "distance_dict=dict()\n",
    "temp_dict=dict()\n",
    "temp_past_dict=dict()\n",
    "for v, vid in enumerate(key_mapping.video_name):\n",
    "    \n",
    "    for val in range(1,4):\n",
    "        \n",
    "        if type(key_mapping['Coords_A%d' % val][v])==str:\n",
    "            coords_a=np.array(key_mapping['Coords_A%d' % val][v].split(','),dtype='int')\n",
    "            coords_t=np.array(key_mapping['Coords_T%d' % val][v].split(','),dtype='int')\n",
    "            coords_c=np.array(key_mapping['Coords_C%d' % val][v].split(','),dtype='int')\n",
    "\n",
    "            target_dist=distance.euclidean(coords_a,coords_t)\n",
    "            control_dist=distance.euclidean(coords_a,coords_c)\n",
    "            \n",
    "            distance_dict[vid+'_T'+str(val)]=target_dist\n",
    "            distance_dict[vid+'_C'+str(val)]=control_dist\n",
    "            \n",
    "            ms_event=float(key_mapping['Event_%d' % val][v].replace(':','.')) \n",
    "            ms_probe=float(key_mapping['Time_%d' % val][v].replace(':','.'))\n",
    "            temp_dict[vid+'_T'+str(val)]=ms_event-ms_probe\n",
    "            temp_dict[vid+'_C'+str(val)]=ms_event-ms_probe\n",
    "            \n",
    "            if val==1:\n",
    "                ms_past_event=0\n",
    "            else:\n",
    "                ms_past_event=float(key_mapping['Event_%d' % (val-1)][v].replace(':','.')) \n",
    "           \n",
    "            temp_past_dict[vid+'_T'+str(val)]=ms_probe-ms_past_event\n",
    "            temp_past_dict[vid+'_C'+str(val)]=ms_probe-ms_past_event"
   ]
  },
  {
   "cell_type": "code",
   "execution_count": 21,
   "metadata": {},
   "outputs": [],
   "source": [
    "probe_detection_vals=dict()\n",
    "\n",
    "for sub in reorganized_data_dict.keys():\n",
    "    probe_names=reorganized_data_dict[sub]['names']\n",
    "    \n",
    "    for i, probe in enumerate(probe_names):\n",
    "\n",
    "        if probe in probe_detection_vals.keys():\n",
    "            probe_detection_vals[probe]+=[~np.isnan(reorganized_data_dict[sub]['keypresses'][i])]\n",
    "        else:\n",
    "            probe_detection_vals[probe]=[~np.isnan(reorganized_data_dict[sub]['keypresses'][i])]"
   ]
  },
  {
   "cell_type": "code",
   "execution_count": 22,
   "metadata": {},
   "outputs": [],
   "source": [
    "distances=[]\n",
    "movie_type=[]\n",
    "\n",
    "for name in probe_detection_vals.keys():\n",
    "    prefix=name.split('.mp4')[0]\n",
    "    \n",
    "    if prefix in distance_dict.keys():\n",
    "        distances.append(distance_dict[prefix])\n",
    "     \n",
    "    if prefix[-2:-1] =='C':\n",
    "        movie_type.append(2)\n",
    "    elif prefix[-2:-1] =='T':\n",
    "        movie_type.append(1)\n",
    "\n",
    "distances=np.array(distances)\n",
    "movie_type=np.array(movie_type)"
   ]
  },
  {
   "cell_type": "code",
   "execution_count": 23,
   "metadata": {},
   "outputs": [
    {
     "name": "stdout",
     "output_type": "stream",
     "text": [
      "Target probe trials: N = 58; Mean Distance= 219.95\n",
      "Control probe trials: N = 58; Mean Distance= 286.97\n",
      "Ttest_indResult(statistic=-5.609159852171034, pvalue=1.44242939923474e-07)\n"
     ]
    },
    {
     "data": {
      "image/png": "[encoded data removed]",
      "text/plain": [
       "<Figure size 288x360 with 1 Axes>"
      ]
     },
     "metadata": {
      "needs_background": "light"
     },
     "output_type": "display_data"
    }
   ],
   "source": [
    "fig=plt.figure(figsize=(4,5))\n",
    "\n",
    "v=plt.violinplot(np.array(distances)[movie_type==1],positions=[0],showextrema=False,showmeans=True)\n",
    "for pc in v['bodies']:\n",
    "    pc.set_facecolor('darkred')\n",
    "v['cmeans'].set_edgecolor('darkred')\n",
    "v=plt.violinplot(np.array(distances)[movie_type==2],positions=[1],showextrema=False,showmeans=True)\n",
    "for pc in v['bodies']:\n",
    "    pc.set_facecolor('navy')\n",
    "v['cmeans'].set_edgecolor('navy')\n",
    "\n",
    "plt.xticks([0,1],['Target probe','Control probe'])\n",
    "plt.ylabel('Distance to agent')\n",
    "plt.axhline(225,linestyle='dashed',color='dimgray')\n",
    "plt.axhline(275,linestyle='dashed',color='dimgray')\n",
    "\n",
    "print('Target probe trials: N = %d; Mean Distance= %0.2f'%\n",
    "      (len(np.array(distances)[movie_type==1]),np.mean(np.array(distances)[movie_type==1])))\n",
    "print('Control probe trials: N = %d; Mean Distance= %0.2f'%\n",
    "      (len(np.array(distances)[movie_type==2]),np.mean(np.array(distances)[movie_type==2])))\n",
    "\n",
    "print(stats.ttest_ind(np.array(distances)[movie_type==1],np.array(distances)[movie_type==2]))\n",
    "\n",
    "fig.savefig('svgs/exp2_spatialprobe/pixel_distances.svg')"
   ]
  },
  {
   "cell_type": "code",
   "execution_count": 24,
   "metadata": {},
   "outputs": [
    {
     "name": "stdout",
     "output_type": "stream",
     "text": [
      "Target: 16\n",
      "250.65343944615873\n",
      "Control: 15\n",
      "252.24437169912233\n",
      "Ttest_indResult(statistic=-0.3493075968696085, pvalue=0.7293821875383282)\n"
     ]
    }
   ],
   "source": [
    "top_limit=275\n",
    "bottom_limit=225\n",
    "\n",
    "target_movie_dists=np.array(distances)[movie_type==1]\n",
    "control_movie_dists=np.array(distances)[movie_type==2]\n",
    "\n",
    "#target_movie_detects=np.array(detected)[movie_type==1]\n",
    "#control_movie_detects=np.array(detected)[movie_type==2]\n",
    "\n",
    "target_mask=(target_movie_dists<top_limit)*(target_movie_dists>bottom_limit)\n",
    "print('Target:',sum(target_mask))\n",
    "print(np.nanmean(target_movie_dists[target_mask]))\n",
    "control_mask=(control_movie_dists<top_limit)*(control_movie_dists>bottom_limit)\n",
    "print('Control:',sum(control_mask))\n",
    "print(np.nanmean(control_movie_dists[control_mask]))\n",
    "\n",
    "print(stats.ttest_ind(target_movie_dists[target_mask],\n",
    "      control_movie_dists[control_mask]))"
   ]
  },
  {
   "cell_type": "code",
   "execution_count": 25,
   "metadata": {},
   "outputs": [
    {
     "name": "stdout",
     "output_type": "stream",
     "text": [
      "debug0iCMg:debugWY61I 9 10\n",
      "debugBEZtm:debugyuUEV 4 5\n",
      "debugDHa10:debugW00CK 11 10\n",
      "debugEKZo6:debugTZHgd 11 7\n",
      "debugF0Ygs:debugkaQeS 2 5\n",
      "debugGllfh:debug0IrHv 11 10\n",
      "debugJ5iCd:debugfh5y4 5 5\n",
      "debugMh0LT:debugcxEIB 9 8\n",
      "debugOMHPx:debugk4Hmz 11 10\n",
      "debugR7K73:debughs4QH 11 10\n",
      "debugSpTtY:debugElPAb 5 5\n",
      "debugT1mQA:debugSWcXn 5 5\n",
      "debugULpzm:debugiI7NU 5 5\n",
      "debugYi1CF:debugl3qvU 10 10\n",
      "debuga5s3v:debugMahYT 9 8\n",
      "debughcTSC:debugGNUKv 5 4\n",
      "debugkIJMc:debugQSmRA 10 10\n",
      "debugl1ZJT:debugcAxEj 11 10\n",
      "debuglOKep:debugscIb2 5 5\n",
      "debuglYWls:debug9gLtL 9 8\n",
      "debugmYRmd:debugoGlaW 4 5\n",
      "debugohwY9:debugGYEP1 5 5\n",
      "debugpg6Ov:debugVP4xk 10 9\n",
      "debugtV1Vf:debuggjVYU 10 10\n",
      "debugv0eK8:debugHQjFF 5 5\n",
      "debugw1cvt:debuggVhaX 11 10\n",
      "debugxrt6i:debugZWrJP 4 5\n",
      "debugyWHpH:debugLKCkP 4 3\n"
     ]
    }
   ],
   "source": [
    "subset_probes_target=[]\n",
    "subset_probes_control=[]\n",
    "\n",
    "num_target=[]\n",
    "num_control=[]\n",
    "for sub in reorganized_data_dict.keys():\n",
    "    probe_names=reorganized_data_dict[sub]['names']\n",
    "    \n",
    "    probes_target=[]\n",
    "    probes_control=[]\n",
    "    probes_non_boundaries=[]\n",
    "    \n",
    "    for i, probe in enumerate(probe_names):\n",
    "        \n",
    "        try:\n",
    "            euc_dist=distance_dict[probe.split('.mp4')[0]]\n",
    "        except:\n",
    "            None\n",
    "        if bottom_limit < euc_dist < top_limit:\n",
    "\n",
    "            if reorganized_data_dict[sub]['probe'][i]==1: # if its a probe trial \n",
    "                probes_target.append(~np.isnan(reorganized_data_dict[sub]['keypresses'][i]))\n",
    "            elif reorganized_data_dict[sub]['probe'][i]==2:\n",
    "                probes_control.append(~np.isnan(reorganized_data_dict[sub]['keypresses'][i]))\n",
    "\n",
    "    print(sub,len(probes_target),len(probes_control))\n",
    "    num_target.append(len(probes_target))\n",
    "    num_control.append(len(probes_control))\n",
    "    \n",
    "    subset_probes_target.append(np.nansum(probes_target)/len(probes_target))\n",
    "    subset_probes_control.append(np.nansum(probes_control)/len(probes_control))\n"
   ]
  },
  {
   "cell_type": "code",
   "execution_count": 26,
   "metadata": {},
   "outputs": [
    {
     "name": "stdout",
     "output_type": "stream",
     "text": [
      "Average target detected: = 0.5511 (N=7.54 average)\n",
      "Average control detected: = 0.4129 (N=7.21 average)\n"
     ]
    }
   ],
   "source": [
    "print('Average target detected: = %0.4f (N=%0.2f average)'%(np.nanmean(subset_probes_target),\n",
    "                                                             np.nanmean(num_target)))\n",
    "print('Average control detected: = %0.4f (N=%0.2f average)'%(np.nanmean(subset_probes_control),\n",
    "                                                                    np.nanmean(num_control)))"
   ]
  },
  {
   "cell_type": "code",
   "execution_count": 27,
   "metadata": {
    "scrolled": true
   },
   "outputs": [
    {
     "name": "stdout",
     "output_type": "stream",
     "text": [
      "Ttest_relResult(statistic=3.2613217991537695, pvalue=0.002999789080804665)\n"
     ]
    },
    {
     "data": {
      "image/png": "[encoded data removed]",
      "text/plain": [
       "<Figure size 216x360 with 1 Axes>"
      ]
     },
     "metadata": {
      "needs_background": "light"
     },
     "output_type": "display_data"
    }
   ],
   "source": [
    "fig=plt.figure(figsize=(3,5))\n",
    "bounds_detect_df=pd.DataFrame({'vals':np.hstack((subset_probes_target,subset_probes_control)),\n",
    "                               'bounds_status':np.hstack((np.zeros(len(subset_probes_target)),\n",
    "                                                          np.ones(len(subset_probes_control))))})\n",
    "\n",
    "sns.barplot(x='bounds_status',y='vals',data=bounds_detect_df,palette=['darkred','navy'],alpha=0.5)\n",
    "sns.stripplot(x='bounds_status',y='vals',data=bounds_detect_df,palette=['darkred','navy'],alpha=0.5)\n",
    "plt.xticks([0,1],['Target','Control'])\n",
    "plt.ylabel('Proportion detected')\n",
    "plt.ylim(-0.075,1.075)\n",
    "print(stats.ttest_rel(subset_probes_target,subset_probes_control,nan_policy='omit'))\n",
    "\n",
    "fig.savefig('svgs/exp2_spatialprobe/subjectwise_boundary_detection_matched_dist.svg')"
   ]
  },
  {
   "cell_type": "code",
   "execution_count": 28,
   "metadata": {},
   "outputs": [
    {
     "data": {
      "text/plain": [
       "0.6276416728851412"
      ]
     },
     "execution_count": 28,
     "metadata": {},
     "output_type": "execute_result"
    }
   ],
   "source": [
    "# Cohen's D\n",
    "difference = np.array(subset_probes_target) - np.array(subset_probes_control)\n",
    "mean_diff = np.nanmean(difference)\n",
    "sd_diff = np.nanstd(difference)\n",
    "\n",
    "d = mean_diff/sd_diff\n",
    "d"
   ]
  },
  {
   "cell_type": "code",
   "execution_count": 34,
   "metadata": {},
   "outputs": [
    {
     "name": "stdout",
     "output_type": "stream",
     "text": [
      "17\n"
     ]
    },
    {
     "data": {
      "image/png": "[encoded data removed]",
      "text/plain": [
       "<Figure size 288x576 with 1 Axes>"
      ]
     },
     "metadata": {
      "needs_background": "light"
     },
     "output_type": "display_data"
    }
   ],
   "source": [
    "sub_differences=np.array(subset_probes_target)-np.array(subset_probes_control)\n",
    "\n",
    "neg_vals=np.where(np.sort(sub_differences)<=0)[0]\n",
    "pos_vals=np.where(np.sort(sub_differences)>0)[0]\n",
    "colors=np.hstack((np.repeat('grey',len(neg_vals)),np.repeat('indigo',len(pos_vals))))\n",
    "\n",
    "print(len(pos_vals))\n",
    "fig,ax=plt.subplots(1,figsize=(4,8))\n",
    "ax.barh(np.arange(len(sub_differences)),np.sort(sub_differences),color=colors)\n",
    "ax.invert_yaxis()\n",
    "fig.savefig('svgs/exp2_spatialprobe/subjectwise_target_detection_differences_matched.svg')"
   ]
  },
  {
   "cell_type": "code",
   "execution_count": 35,
   "metadata": {},
   "outputs": [],
   "source": [
    "probe_detection_vals=dict()\n",
    "probe_distance_vals=dict()\n",
    "\n",
    "for sub in reorganized_data_dict.keys():\n",
    "    probe_names=reorganized_data_dict[sub]['names']\n",
    "    \n",
    "    for i, probe in enumerate(probe_names):\n",
    "\n",
    "        try:\n",
    "            euc_dist=distance_dict[probe.split('.mp4')[0]]\n",
    "        except:\n",
    "            euc_dist=np.nan\n",
    "        \n",
    "        if probe in probe_detection_vals.keys():\n",
    "            probe_detection_vals[probe]+=[~np.isnan(reorganized_data_dict[sub]['keypresses'][i])]\n",
    "        else:\n",
    "            probe_detection_vals[probe]=[~np.isnan(reorganized_data_dict[sub]['keypresses'][i])]\n",
    "            probe_distance_vals[probe]=euc_dist "
   ]
  },
  {
   "cell_type": "code",
   "execution_count": 36,
   "metadata": {},
   "outputs": [
    {
     "name": "stdout",
     "output_type": "stream",
     "text": [
      "147\n"
     ]
    }
   ],
   "source": [
    "detection_vals=np.array([np.sum(probe_detection_vals[probe])/len(probe_detection_vals[probe]) \n",
    "                for probe in probe_detection_vals.keys()])\n",
    "probe_status=[probe[-6:-5] for probe in probe_detection_vals.keys()]\n",
    "print(len(detection_vals))"
   ]
  },
  {
   "cell_type": "code",
   "execution_count": 37,
   "metadata": {},
   "outputs": [
    {
     "name": "stdout",
     "output_type": "stream",
     "text": [
      "253.45776551404467\n"
     ]
    },
    {
     "data": {
      "image/png": "[encoded data removed]",
      "text/plain": [
       "<Figure size 432x288 with 1 Axes>"
      ]
     },
     "metadata": {
      "needs_background": "light"
     },
     "output_type": "display_data"
    }
   ],
   "source": [
    "plt.hist(list(probe_distance_vals.values()))\n",
    "print(np.nanmean(list(probe_distance_vals.values())))"
   ]
  },
  {
   "cell_type": "code",
   "execution_count": 38,
   "metadata": {},
   "outputs": [],
   "source": [
    "arranged_colors=[]\n",
    "for i in probe_status:\n",
    "    if i=='C':\n",
    "        arranged_colors.append('navy')\n",
    "    elif i=='T':\n",
    "        arranged_colors.append('crimson')\n",
    "    else:\n",
    "        arranged_colors.append('black')"
   ]
  },
  {
   "cell_type": "code",
   "execution_count": 39,
   "metadata": {},
   "outputs": [],
   "source": [
    "lower_bound_mask=np.array(list(probe_distance_vals.values()))>225\n",
    "upper_bound_mask=np.array(list(probe_distance_vals.values()))<275\n",
    "\n",
    "bounds_mask=lower_bound_mask*upper_bound_mask"
   ]
  },
  {
   "cell_type": "code",
   "execution_count": 40,
   "metadata": {},
   "outputs": [
    {
     "name": "stderr",
     "output_type": "stream",
     "text": [
      "/gpfs/milgram/project/turk-browne/users/tsy6/conda_envs/dev_brainiak/lib/python3.7/site-packages/seaborn/_decorators.py:43: FutureWarning: Pass the following variables as keyword args: x, y. From version 0.12, the only valid positional argument will be `data`, and passing other arguments without an explicit keyword will result in an error or misinterpretation.\n",
      "  FutureWarning\n"
     ]
    },
    {
     "name": "stdout",
     "output_type": "stream",
     "text": [
      "116\n",
      "(-0.1691136908087652, 0.06955777074321805)\n"
     ]
    },
    {
     "data": {
      "image/png": "[encoded data removed]",
      "text/plain": [
       "<Figure size 432x360 with 1 Axes>"
      ]
     },
     "metadata": {
      "needs_background": "light"
     },
     "output_type": "display_data"
    }
   ],
   "source": [
    "fig=plt.figure(figsize=(6,5))\n",
    "\n",
    "mask=~np.isnan(list(probe_distance_vals.values()))*~np.isnan(detection_vals) #*bounds_mask\n",
    "\n",
    "sns.regplot(np.array(list(probe_distance_vals.values()))[mask],detection_vals[mask],fit_reg=False,\n",
    "            x_jitter=0.025,y_jitter=0.025,scatter_kws={'facecolors':np.array(arranged_colors)[mask],\n",
    "                                                     'edgecolors':'darkgrey',\n",
    "                                                     'alpha':0.5,'s':50},\n",
    "           line_kws={'color':'dimgrey'})\n",
    "\n",
    "plt.ylim(-0.075,1.075)\n",
    "plt.xlim(80,550)\n",
    "plt.xlabel('Distance between probe and agent')\n",
    "plt.ylabel('Proportion detected spatial probe')\n",
    "\n",
    "plt.axvline(225,linestyle='dashed',color='grey')\n",
    "plt.axvline(275,linestyle='dashed',color='grey')\n",
    "\n",
    "print(len(detection_vals[mask]))\n",
    "print(stats.pearsonr(np.array(list(probe_distance_vals.values()))[mask],detection_vals[mask],))\n",
    "\n",
    "fig.savefig('svgs/exp2_spatialprobe/spatialprobe_dist_colored.svg')"
   ]
  },
  {
   "cell_type": "markdown",
   "metadata": {},
   "source": [
    "### What about the different letter probes? "
   ]
  },
  {
   "cell_type": "code",
   "execution_count": 41,
   "metadata": {
    "scrolled": true
   },
   "outputs": [
    {
     "name": "stdout",
     "output_type": "stream",
     "text": [
      "debug0iCMg:debugWY61I 26 28\n",
      "debugBEZtm:debugyuUEV 28 28\n",
      "debugDHa10:debugW00CK 28 26\n",
      "debugEKZo6:debugTZHgd 26 27\n",
      "debugF0Ygs:debugkaQeS 23 28\n",
      "debugGllfh:debug0IrHv 29 28\n",
      "debugJ5iCd:debugfh5y4 27 28\n",
      "debugMh0LT:debugcxEIB 24 27\n",
      "debugOMHPx:debugk4Hmz 29 29\n",
      "debugR7K73:debughs4QH 28 29\n",
      "debugSpTtY:debugElPAb 28 27\n",
      "debugT1mQA:debugSWcXn 29 27\n",
      "debugULpzm:debugiI7NU 29 29\n",
      "debugYi1CF:debugl3qvU 28 27\n",
      "debuga5s3v:debugMahYT 24 26\n",
      "debughcTSC:debugGNUKv 28 28\n",
      "debugkIJMc:debugQSmRA 28 26\n",
      "debugl1ZJT:debugcAxEj 27 27\n",
      "debuglOKep:debugscIb2 28 25\n",
      "debuglYWls:debug9gLtL 24 27\n",
      "debugmYRmd:debugoGlaW 28 27\n",
      "debugohwY9:debugGYEP1 27 26\n",
      "debugpg6Ov:debugVP4xk 27 25\n",
      "debugtV1Vf:debuggjVYU 28 28\n",
      "debugv0eK8:debugHQjFF 28 26\n",
      "debugw1cvt:debuggVhaX 28 29\n",
      "debugxrt6i:debugZWrJP 27 29\n",
      "debugyWHpH:debugLKCkP 21 19\n"
     ]
    }
   ],
   "source": [
    "all_probes_ekey=[]\n",
    "all_probes_fkey=[]\n",
    "\n",
    "num_ekey=[]\n",
    "num_fkey=[]\n",
    "for sub in reorganized_data_dict.keys():\n",
    "    probe_names=reorganized_data_dict[sub]['names']\n",
    "    \n",
    "    probes_e=[]\n",
    "    probes_f=[]\n",
    "    \n",
    "    for i, probe in enumerate(probe_names):\n",
    "\n",
    "        if reorganized_data_dict[sub]['key_type'][i]=='E_Key': # if its a probe trial \n",
    "            probes_e.append(~np.isnan(reorganized_data_dict[sub]['keypresses'][i]))\n",
    "        elif reorganized_data_dict[sub]['key_type'][i]=='F_Key':\n",
    "            probes_f.append(~np.isnan(reorganized_data_dict[sub]['keypresses'][i]))\n",
    "\n",
    "    print(sub,len(probes_e),len(probes_f))\n",
    "    num_ekey.append(len(probes_e))\n",
    "    num_fkey.append(len(probes_f))\n",
    "    \n",
    "    all_probes_ekey.append(np.nansum(probes_e)/len(probes_e))\n",
    "    all_probes_fkey.append(np.nansum(probes_f)/len(probes_f))\n"
   ]
  },
  {
   "cell_type": "code",
   "execution_count": 42,
   "metadata": {},
   "outputs": [
    {
     "name": "stdout",
     "output_type": "stream",
     "text": [
      "Average e key detected: = 0.4091 (N=26.96 average)\n",
      "Average f key detected: = 0.5038 (N=27.00 average)\n",
      "Ttest_relResult(statistic=-3.2236750030249977, pvalue=0.003297783473640251)\n"
     ]
    },
    {
     "data": {
      "image/png": "[encoded data removed]",
      "text/plain": [
       "<Figure size 216x360 with 1 Axes>"
      ]
     },
     "metadata": {
      "needs_background": "light"
     },
     "output_type": "display_data"
    }
   ],
   "source": [
    "print('Average e key detected: = %0.4f (N=%0.2f average)'%(np.nanmean(all_probes_ekey),\n",
    "                                                             np.nanmean(num_ekey)))\n",
    "print('Average f key detected: = %0.4f (N=%0.2f average)'%(np.nanmean(all_probes_fkey),\n",
    "                                                                    np.nanmean(num_fkey)))\n",
    "\n",
    "fig=plt.figure(figsize=(3,5))\n",
    "bounds_detect_df=pd.DataFrame({'vals':np.hstack((all_probes_ekey,all_probes_fkey)),\n",
    "                               'bounds_status':np.hstack((np.zeros(len(all_probes_ekey)),\n",
    "                                                          np.ones(len(all_probes_fkey))))})\n",
    "\n",
    "sns.barplot(x='bounds_status',y='vals',data=bounds_detect_df,palette=['grey','seagreen'],alpha=0.5)\n",
    "sns.stripplot(x='bounds_status',y='vals',data=bounds_detect_df,palette=['grey','seagreen'],alpha=0.5)\n",
    "plt.xticks([0,1],['E-Key','F-key'])\n",
    "plt.ylabel('Proportion detected')\n",
    "plt.ylim(-0.075,1.075)\n",
    "print(stats.ttest_rel(all_probes_ekey,all_probes_fkey,nan_policy='omit'))\n",
    "\n",
    "fig.savefig('svgs/exp2_spatialprobe/subjectwise_key_type_detection.svg')\n"
   ]
  },
  {
   "cell_type": "code",
   "execution_count": 43,
   "metadata": {},
   "outputs": [
    {
     "name": "stdout",
     "output_type": "stream",
     "text": [
      "debug0iCMg:debugWY61I 8 18\n",
      "debugBEZtm:debugyuUEV 17 11\n",
      "debugDHa10:debugW00CK 11 17\n",
      "debugEKZo6:debugTZHgd 9 17\n",
      "debugF0Ygs:debugkaQeS 13 10\n",
      "debugGllfh:debug0IrHv 11 18\n",
      "debugJ5iCd:debugfh5y4 17 10\n",
      "debugMh0LT:debugcxEIB 9 15\n",
      "debugOMHPx:debugk4Hmz 11 18\n",
      "debugR7K73:debughs4QH 10 18\n",
      "debugSpTtY:debugElPAb 18 10\n",
      "debugT1mQA:debugSWcXn 18 11\n",
      "debugULpzm:debugiI7NU 18 11\n",
      "debugYi1CF:debugl3qvU 10 18\n",
      "debuga5s3v:debugMahYT 10 14\n",
      "debughcTSC:debugGNUKv 18 10\n",
      "debugkIJMc:debugQSmRA 10 18\n",
      "debugl1ZJT:debugcAxEj 11 16\n",
      "debuglOKep:debugscIb2 18 10\n",
      "debuglYWls:debug9gLtL 10 14\n",
      "debugmYRmd:debugoGlaW 17 11\n",
      "debugohwY9:debugGYEP1 17 10\n",
      "debugpg6Ov:debugVP4xk 10 17\n",
      "debugtV1Vf:debuggjVYU 10 18\n",
      "debugv0eK8:debugHQjFF 17 11\n",
      "debugw1cvt:debuggVhaX 11 17\n",
      "debugxrt6i:debugZWrJP 16 11\n",
      "debugyWHpH:debugLKCkP 13 8\n"
     ]
    }
   ],
   "source": [
    "all_probes_target=[]\n",
    "all_probes_control=[]\n",
    "\n",
    "num_target=[]\n",
    "num_control=[]\n",
    "for sub in reorganized_data_dict.keys():\n",
    "    probe_names=reorganized_data_dict[sub]['names']\n",
    "    \n",
    "    probes_target=[]\n",
    "    probes_control=[]\n",
    "    probes_non_boundaries=[]\n",
    "    \n",
    "    for i, probe in enumerate(probe_names):\n",
    "\n",
    "        \n",
    "        if reorganized_data_dict[sub]['key_type'][i]=='E_Key':\n",
    "            if reorganized_data_dict[sub]['probe'][i]==1: # if its a probe trial \n",
    "                probes_target.append(~np.isnan(reorganized_data_dict[sub]['keypresses'][i]))\n",
    "            elif reorganized_data_dict[sub]['probe'][i]==2:\n",
    "                probes_control.append(~np.isnan(reorganized_data_dict[sub]['keypresses'][i]))\n",
    "\n",
    "    print(sub,len(probes_target),len(probes_control))\n",
    "    num_target.append(len(probes_target))\n",
    "    num_control.append(len(probes_control))\n",
    "    \n",
    "    all_probes_target.append(np.nansum(probes_target)/len(probes_target))\n",
    "    all_probes_control.append(np.nansum(probes_control)/len(probes_control))\n"
   ]
  },
  {
   "cell_type": "code",
   "execution_count": 44,
   "metadata": {},
   "outputs": [
    {
     "name": "stdout",
     "output_type": "stream",
     "text": [
      "Average target detected (e key): = 0.4640 (N=13.14 average)\n",
      "Average control detected (e key): = 0.3595 (N=13.82 average)\n",
      "Ttest_relResult(statistic=3.195526884183456, pvalue=0.0035389771010776528)\n"
     ]
    },
    {
     "data": {
      "image/png": "[encoded data removed]",
      "text/plain": [
       "<Figure size 216x360 with 1 Axes>"
      ]
     },
     "metadata": {
      "needs_background": "light"
     },
     "output_type": "display_data"
    }
   ],
   "source": [
    "print('Average target detected (e key): = %0.4f (N=%0.2f average)'%(np.nanmean(all_probes_target),\n",
    "                                                             np.nanmean(num_target)))\n",
    "print('Average control detected (e key): = %0.4f (N=%0.2f average)'%(np.nanmean(all_probes_control),\n",
    "                                                                    np.nanmean(num_control)))\n",
    "\n",
    "fig=plt.figure(figsize=(3,5))\n",
    "bounds_detect_df=pd.DataFrame({'vals':np.hstack((all_probes_target,all_probes_control)),\n",
    "                               'bounds_status':np.hstack((np.zeros(len(all_probes_target)),\n",
    "                                                          np.ones(len(all_probes_control))))})\n",
    "\n",
    "sns.barplot(x='bounds_status',y='vals',data=bounds_detect_df,palette=['darkred','navy'],alpha=0.5)\n",
    "sns.stripplot(x='bounds_status',y='vals',data=bounds_detect_df,palette=['darkred','navy'],alpha=0.5)\n",
    "plt.xticks([0,1],['Target','Control'])\n",
    "plt.ylabel('Proportion detected')\n",
    "plt.ylim(-0.075,1.075)\n",
    "print(stats.ttest_rel(all_probes_target,all_probes_control,nan_policy='omit'))\n",
    "\n",
    "fig.savefig('svgs/exp2_spatialprobe/subjectwise_detection_ekey.svg')\n"
   ]
  },
  {
   "cell_type": "code",
   "execution_count": 45,
   "metadata": {},
   "outputs": [
    {
     "name": "stdout",
     "output_type": "stream",
     "text": [
      "debug0iCMg:debugWY61I 15 13\n",
      "debugBEZtm:debugyuUEV 14 14\n",
      "debugDHa10:debugW00CK 14 12\n",
      "debugEKZo6:debugTZHgd 15 12\n",
      "debugF0Ygs:debugkaQeS 14 14\n",
      "debugGllfh:debug0IrHv 14 14\n",
      "debugJ5iCd:debugfh5y4 14 14\n",
      "debugMh0LT:debugcxEIB 15 12\n",
      "debugOMHPx:debugk4Hmz 15 14\n",
      "debugR7K73:debughs4QH 15 14\n",
      "debugSpTtY:debugElPAb 12 15\n",
      "debugT1mQA:debugSWcXn 14 13\n",
      "debugULpzm:debugiI7NU 14 15\n",
      "debugYi1CF:debugl3qvU 14 13\n",
      "debuga5s3v:debugMahYT 14 12\n",
      "debughcTSC:debugGNUKv 14 14\n",
      "debugkIJMc:debugQSmRA 13 13\n",
      "debugl1ZJT:debugcAxEj 14 13\n",
      "debuglOKep:debugscIb2 12 13\n",
      "debuglYWls:debug9gLtL 14 13\n",
      "debugmYRmd:debugoGlaW 14 13\n",
      "debugohwY9:debugGYEP1 13 13\n",
      "debugpg6Ov:debugVP4xk 14 11\n",
      "debugtV1Vf:debuggjVYU 14 14\n",
      "debugv0eK8:debugHQjFF 12 14\n",
      "debugw1cvt:debuggVhaX 15 14\n",
      "debugxrt6i:debugZWrJP 14 15\n",
      "debugyWHpH:debugLKCkP 9 10\n"
     ]
    }
   ],
   "source": [
    "all_probes_target=[]\n",
    "all_probes_control=[]\n",
    "\n",
    "num_target=[]\n",
    "num_control=[]\n",
    "for sub in reorganized_data_dict.keys():\n",
    "    probe_names=reorganized_data_dict[sub]['names']\n",
    "    \n",
    "    probes_target=[]\n",
    "    probes_control=[]\n",
    "    probes_non_boundaries=[]\n",
    "    \n",
    "    for i, probe in enumerate(probe_names):\n",
    "\n",
    "        \n",
    "        if reorganized_data_dict[sub]['key_type'][i]=='F_Key':\n",
    "            if reorganized_data_dict[sub]['probe'][i]==1: # if its a probe trial \n",
    "                probes_target.append(~np.isnan(reorganized_data_dict[sub]['keypresses'][i]))\n",
    "            elif reorganized_data_dict[sub]['probe'][i]==2:\n",
    "                probes_control.append(~np.isnan(reorganized_data_dict[sub]['keypresses'][i]))\n",
    "\n",
    "    print(sub,len(probes_target),len(probes_control))\n",
    "    num_target.append(len(probes_target))\n",
    "    num_control.append(len(probes_control))\n",
    "    \n",
    "    all_probes_target.append(np.nansum(probes_target)/len(probes_target))\n",
    "    all_probes_control.append(np.nansum(probes_control)/len(probes_control))"
   ]
  },
  {
   "cell_type": "code",
   "execution_count": 46,
   "metadata": {},
   "outputs": [
    {
     "name": "stdout",
     "output_type": "stream",
     "text": [
      "Average target detected (f key): = 0.5285 (N=13.75 average)\n",
      "Average control detected (f key): = 0.4813 (N=13.25 average)\n",
      "Ttest_relResult(statistic=1.4646979823733652, pvalue=0.15455126097398267)\n"
     ]
    },
    {
     "data": {
      "image/png": "[encoded data removed]",
      "text/plain": [
       "<Figure size 216x360 with 1 Axes>"
      ]
     },
     "metadata": {
      "needs_background": "light"
     },
     "output_type": "display_data"
    }
   ],
   "source": [
    "print('Average target detected (f key): = %0.4f (N=%0.2f average)'%(np.nanmean(all_probes_target),\n",
    "                                                             np.nanmean(num_target)))\n",
    "print('Average control detected (f key): = %0.4f (N=%0.2f average)'%(np.nanmean(all_probes_control),\n",
    "                                                                    np.nanmean(num_control)))\n",
    "\n",
    "fig=plt.figure(figsize=(3,5))\n",
    "bounds_detect_df=pd.DataFrame({'vals':np.hstack((all_probes_target,all_probes_control)),\n",
    "                               'bounds_status':np.hstack((np.zeros(len(all_probes_target)),\n",
    "                                                          np.ones(len(all_probes_control))))})\n",
    "\n",
    "sns.barplot(x='bounds_status',y='vals',data=bounds_detect_df,palette=['darkred','navy'],alpha=0.5)\n",
    "sns.stripplot(x='bounds_status',y='vals',data=bounds_detect_df,palette=['darkred','navy'],alpha=0.5)\n",
    "plt.xticks([0,1],['Target','Control'])\n",
    "plt.ylabel('Proportion detected')\n",
    "plt.ylim(-0.075,1.075)\n",
    "print(stats.ttest_rel(all_probes_target,all_probes_control,nan_policy='omit'))\n",
    "\n",
    "fig.savefig('svgs/exp2_spatialprobe/subjectwise_detection_fkey.svg')\n"
   ]
  },
  {
   "cell_type": "markdown",
   "metadata": {},
   "source": [
    "### Confidence"
   ]
  },
  {
   "cell_type": "code",
   "execution_count": 47,
   "metadata": {},
   "outputs": [],
   "source": [
    "all_probes_target_conf=[]\n",
    "all_probes_control_conf=[]\n",
    "\n",
    "for sub in reorganized_data_dict.keys():\n",
    "    probe_names=reorganized_data_dict[sub]['names']\n",
    "    \n",
    "    probes_target_conf=[]\n",
    "    probes_control_conf=[]\n",
    "    \n",
    "    for i, probe in enumerate(probe_names):\n",
    "\n",
    "        if reorganized_data_dict[sub]['probe'][i]==1: # if its a probe trial \n",
    "            probes_target_conf.append(float(reorganized_data_dict[sub]['confidence'][i]))\n",
    "        elif reorganized_data_dict[sub]['probe'][i]==2:\n",
    "            probes_control_conf.append(float(reorganized_data_dict[sub]['confidence'][i]))\n",
    "\n",
    "            \n",
    "    all_probes_target_conf.append(np.nanmean(probes_target_conf))\n",
    "    all_probes_control_conf.append(np.nanmean(probes_control_conf))"
   ]
  },
  {
   "cell_type": "code",
   "execution_count": 48,
   "metadata": {},
   "outputs": [
    {
     "name": "stdout",
     "output_type": "stream",
     "text": [
      "Average target conf: = 61.8586\n",
      "Average control conf: = 57.4671\n"
     ]
    }
   ],
   "source": [
    "print('Average target conf: = %0.4f'%(np.nanmean(all_probes_target_conf)))\n",
    "print('Average control conf: = %0.4f'%(np.nanmean(all_probes_control_conf)))"
   ]
  },
  {
   "cell_type": "code",
   "execution_count": 49,
   "metadata": {},
   "outputs": [
    {
     "name": "stdout",
     "output_type": "stream",
     "text": [
      "Ttest_relResult(statistic=3.282867889258997, pvalue=0.002841086563572119)\n"
     ]
    },
    {
     "data": {
      "image/png": "[encoded data removed]",
      "text/plain": [
       "<Figure size 216x360 with 1 Axes>"
      ]
     },
     "metadata": {
      "needs_background": "light"
     },
     "output_type": "display_data"
    }
   ],
   "source": [
    "fig=plt.figure(figsize=(3,5))\n",
    "bounds_detect_df=pd.DataFrame({'vals':np.hstack((all_probes_target_conf,all_probes_control_conf)),\n",
    "                               'bounds_status':np.hstack((np.zeros(len(all_probes_target_conf)),\n",
    "                                                          np.ones(len(all_probes_control_conf))))})\n",
    "\n",
    "sns.barplot(x='bounds_status',y='vals',data=bounds_detect_df,palette=['darkred','navy'],alpha=0.5)\n",
    "sns.stripplot(x='bounds_status',y='vals',data=bounds_detect_df,palette=['darkred','navy'],alpha=0.5)\n",
    "plt.xticks([0,1],['Target','Control'])\n",
    "plt.ylabel('Confidence level')\n",
    "plt.ylim(0,100)\n",
    "print(stats.ttest_rel(all_probes_target_conf,all_probes_control_conf,nan_policy='omit'))\n",
    "\n",
    "fig.savefig('svgs/exp2_spatialprobe/subjectwise_confidence.svg')"
   ]
  },
  {
   "cell_type": "markdown",
   "metadata": {},
   "source": [
    "### RT Info"
   ]
  },
  {
   "cell_type": "code",
   "execution_count": 50,
   "metadata": {},
   "outputs": [
    {
     "name": "stderr",
     "output_type": "stream",
     "text": [
      "/gpfs/milgram/project/turk-browne/users/tsy6/conda_envs/dev_brainiak/lib/python3.7/site-packages/ipykernel_launcher.py:18: RuntimeWarning: Mean of empty slice\n",
      "/gpfs/milgram/project/turk-browne/users/tsy6/conda_envs/dev_brainiak/lib/python3.7/site-packages/ipykernel_launcher.py:19: RuntimeWarning: Mean of empty slice\n"
     ]
    }
   ],
   "source": [
    "all_probes_target_rt=[]\n",
    "all_probes_control_rt=[]\n",
    "\n",
    "for sub in reorganized_data_dict.keys():\n",
    "    probe_names=reorganized_data_dict[sub]['names']\n",
    "    \n",
    "    probes_target_rt=[]\n",
    "    probes_control_rt=[]\n",
    "    \n",
    "    for i, probe in enumerate(probe_names):\n",
    "\n",
    "        if reorganized_data_dict[sub]['probe'][i]==1: # if its a probe trial \n",
    "            probes_target_rt.append(float(reorganized_data_dict[sub]['rt_correct'][i]))\n",
    "        elif reorganized_data_dict[sub]['probe'][i]==2:\n",
    "            probes_control_rt.append(float(reorganized_data_dict[sub]['rt_correct'][i]))\n",
    "\n",
    "            \n",
    "    all_probes_target_rt.append(np.nanmean(probes_target_rt))\n",
    "    all_probes_control_rt.append(np.nanmean(probes_control_rt))"
   ]
  },
  {
   "cell_type": "code",
   "execution_count": 51,
   "metadata": {},
   "outputs": [
    {
     "name": "stdout",
     "output_type": "stream",
     "text": [
      "Average target rt: = 1603.0742\n",
      "Average control rt: = 1635.3661\n"
     ]
    }
   ],
   "source": [
    "print('Average target rt: = %0.4f'%(np.nanmean(all_probes_target_rt)))\n",
    "print('Average control rt: = %0.4f'%(np.nanmean(all_probes_control_rt)))"
   ]
  },
  {
   "cell_type": "code",
   "execution_count": 52,
   "metadata": {},
   "outputs": [
    {
     "name": "stdout",
     "output_type": "stream",
     "text": [
      "Ttest_relResult(statistic=-1.8345636974945267, pvalue=0.07849886786343163)\n"
     ]
    },
    {
     "data": {
      "image/png": "[encoded data removed]",
      "text/plain": [
       "<Figure size 216x360 with 1 Axes>"
      ]
     },
     "metadata": {
      "needs_background": "light"
     },
     "output_type": "display_data"
    }
   ],
   "source": [
    "fig=plt.figure(figsize=(3,5))\n",
    "bounds_detect_df=pd.DataFrame({'vals':np.hstack((all_probes_target_rt,all_probes_control_rt)),\n",
    "                               'bounds_status':np.hstack((np.zeros(len(all_probes_target_rt)),\n",
    "                                                          np.ones(len(all_probes_control_rt))))})\n",
    "\n",
    "sns.barplot(x='bounds_status',y='vals',data=bounds_detect_df,palette=['darkred','navy'],alpha=0.5)\n",
    "sns.stripplot(x='bounds_status',y='vals',data=bounds_detect_df,palette=['darkred','navy'],alpha=0.5)\n",
    "plt.xticks([0,1],['Target','Control'])\n",
    "plt.ylabel('RT')\n",
    "plt.ylim(0,2500)\n",
    "print(stats.ttest_rel(all_probes_target_rt,all_probes_control_rt,nan_policy='omit'))\n",
    "\n",
    "fig.savefig('svgs/exp2_spatialprobe/subjectwise_rt.svg')"
   ]
  }
 ],
 "metadata": {
  "kernelspec": {
   "display_name": "Python 3",
   "language": "python",
   "name": "python3"
  },
  "language_info": {
   "codemirror_mode": {
    "name": "ipython",
    "version": 3
   },
   "file_extension": ".py",
   "mimetype": "text/x-python",
   "name": "python",
   "nbconvert_exporter": "python",
   "pygments_lexer": "ipython3",
   "version": "3.7.10"
  }
 },
 "nbformat": 4,
 "nbformat_minor": 2
}
